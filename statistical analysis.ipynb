{
 "cells": [
  {
   "cell_type": "markdown",
   "id": "fd9c1cf5-6e84-4fb6-9717-765d4e584a15",
   "metadata": {},
   "source": [
    "# Students Performance Dataset"
   ]
  },
  {
   "cell_type": "markdown",
   "id": "d144cc49-b2e3-4541-8fe2-84c0b3a62d09",
   "metadata": {},
   "source": [
    "### Context \n",
    "Marks secured by the student\n",
    "\r\n"
   ]
  },
  {
   "cell_type": "markdown",
   "id": "f94a5d82-ac65-417c-bed0-e3b91fd6bff5",
   "metadata": {},
   "source": [
    "### Content\n",
    "This data set consists of the marks secured by the students in various subjects."
   ]
  },
  {
   "cell_type": "markdown",
   "id": "698e93e4-60c7-4d27-9769-bf0f51861739",
   "metadata": {},
   "source": [
    "# Import packages"
   ]
  },
  {
   "cell_type": "markdown",
   "id": "d8d3e02f-0089-48ef-b703-0faa32e596ac",
   "metadata": {},
   "source": [
    "pandas: Data manipulation and analysis library.\n",
    "numpy: Numerical computing library.\n",
    "scipy: Scientific computing and statistics.\n",
    "matplotlib: Plotting library.\n",
    "seaborn: Data visualization"
   ]
  },
  {
   "cell_type": "code",
   "execution_count": 1,
   "id": "be94942a-2f25-4262-bf86-1e613c58ae8f",
   "metadata": {},
   "outputs": [],
   "source": [
    "import pandas as pd\n",
    "import numpy as np\n",
    "import scipy.stats as stats\n",
    "import matplotlib.pyplot as plt\n",
    "import seaborn as sns"
   ]
  },
  {
   "cell_type": "code",
   "execution_count": 2,
   "id": "c40fc23e-e669-42c4-91ad-8b23639f3260",
   "metadata": {},
   "outputs": [
    {
     "data": {
      "text/html": [
       "<div>\n",
       "<style scoped>\n",
       "    .dataframe tbody tr th:only-of-type {\n",
       "        vertical-align: middle;\n",
       "    }\n",
       "\n",
       "    .dataframe tbody tr th {\n",
       "        vertical-align: top;\n",
       "    }\n",
       "\n",
       "    .dataframe thead th {\n",
       "        text-align: right;\n",
       "    }\n",
       "</style>\n",
       "<table border=\"1\" class=\"dataframe\">\n",
       "  <thead>\n",
       "    <tr style=\"text-align: right;\">\n",
       "      <th></th>\n",
       "      <th>gender</th>\n",
       "      <th>race/ethnicity</th>\n",
       "      <th>parental level of education</th>\n",
       "      <th>lunch</th>\n",
       "      <th>test preparation course</th>\n",
       "      <th>math score</th>\n",
       "      <th>reading score</th>\n",
       "      <th>writing score</th>\n",
       "      <th>avg of score</th>\n",
       "      <th>performance</th>\n",
       "    </tr>\n",
       "  </thead>\n",
       "  <tbody>\n",
       "    <tr>\n",
       "      <th>0</th>\n",
       "      <td>female</td>\n",
       "      <td>group B</td>\n",
       "      <td>bachelor's degree</td>\n",
       "      <td>standard</td>\n",
       "      <td>none</td>\n",
       "      <td>72</td>\n",
       "      <td>72</td>\n",
       "      <td>74</td>\n",
       "      <td>72.666667</td>\n",
       "      <td>acceptable</td>\n",
       "    </tr>\n",
       "    <tr>\n",
       "      <th>1</th>\n",
       "      <td>female</td>\n",
       "      <td>group C</td>\n",
       "      <td>some college</td>\n",
       "      <td>standard</td>\n",
       "      <td>completed</td>\n",
       "      <td>69</td>\n",
       "      <td>90</td>\n",
       "      <td>88</td>\n",
       "      <td>82.333333</td>\n",
       "      <td>acceptable</td>\n",
       "    </tr>\n",
       "    <tr>\n",
       "      <th>2</th>\n",
       "      <td>female</td>\n",
       "      <td>group B</td>\n",
       "      <td>master's degree</td>\n",
       "      <td>standard</td>\n",
       "      <td>none</td>\n",
       "      <td>90</td>\n",
       "      <td>95</td>\n",
       "      <td>93</td>\n",
       "      <td>92.666667</td>\n",
       "      <td>acceptable</td>\n",
       "    </tr>\n",
       "    <tr>\n",
       "      <th>3</th>\n",
       "      <td>male</td>\n",
       "      <td>group A</td>\n",
       "      <td>associate's degree</td>\n",
       "      <td>free/reduced</td>\n",
       "      <td>none</td>\n",
       "      <td>47</td>\n",
       "      <td>57</td>\n",
       "      <td>44</td>\n",
       "      <td>49.333333</td>\n",
       "      <td>non acceptable</td>\n",
       "    </tr>\n",
       "    <tr>\n",
       "      <th>4</th>\n",
       "      <td>male</td>\n",
       "      <td>group C</td>\n",
       "      <td>some college</td>\n",
       "      <td>standard</td>\n",
       "      <td>none</td>\n",
       "      <td>76</td>\n",
       "      <td>78</td>\n",
       "      <td>75</td>\n",
       "      <td>76.333333</td>\n",
       "      <td>acceptable</td>\n",
       "    </tr>\n",
       "    <tr>\n",
       "      <th>...</th>\n",
       "      <td>...</td>\n",
       "      <td>...</td>\n",
       "      <td>...</td>\n",
       "      <td>...</td>\n",
       "      <td>...</td>\n",
       "      <td>...</td>\n",
       "      <td>...</td>\n",
       "      <td>...</td>\n",
       "      <td>...</td>\n",
       "      <td>...</td>\n",
       "    </tr>\n",
       "    <tr>\n",
       "      <th>995</th>\n",
       "      <td>female</td>\n",
       "      <td>group E</td>\n",
       "      <td>master's degree</td>\n",
       "      <td>standard</td>\n",
       "      <td>completed</td>\n",
       "      <td>88</td>\n",
       "      <td>99</td>\n",
       "      <td>95</td>\n",
       "      <td>94.000000</td>\n",
       "      <td>acceptable</td>\n",
       "    </tr>\n",
       "    <tr>\n",
       "      <th>996</th>\n",
       "      <td>male</td>\n",
       "      <td>group C</td>\n",
       "      <td>high school</td>\n",
       "      <td>free/reduced</td>\n",
       "      <td>none</td>\n",
       "      <td>62</td>\n",
       "      <td>55</td>\n",
       "      <td>55</td>\n",
       "      <td>57.333333</td>\n",
       "      <td>acceptable</td>\n",
       "    </tr>\n",
       "    <tr>\n",
       "      <th>997</th>\n",
       "      <td>female</td>\n",
       "      <td>group C</td>\n",
       "      <td>high school</td>\n",
       "      <td>free/reduced</td>\n",
       "      <td>completed</td>\n",
       "      <td>59</td>\n",
       "      <td>71</td>\n",
       "      <td>65</td>\n",
       "      <td>65.000000</td>\n",
       "      <td>acceptable</td>\n",
       "    </tr>\n",
       "    <tr>\n",
       "      <th>998</th>\n",
       "      <td>female</td>\n",
       "      <td>group D</td>\n",
       "      <td>some college</td>\n",
       "      <td>standard</td>\n",
       "      <td>completed</td>\n",
       "      <td>68</td>\n",
       "      <td>78</td>\n",
       "      <td>77</td>\n",
       "      <td>74.333333</td>\n",
       "      <td>acceptable</td>\n",
       "    </tr>\n",
       "    <tr>\n",
       "      <th>999</th>\n",
       "      <td>female</td>\n",
       "      <td>group D</td>\n",
       "      <td>some college</td>\n",
       "      <td>free/reduced</td>\n",
       "      <td>none</td>\n",
       "      <td>77</td>\n",
       "      <td>86</td>\n",
       "      <td>86</td>\n",
       "      <td>83.000000</td>\n",
       "      <td>acceptable</td>\n",
       "    </tr>\n",
       "  </tbody>\n",
       "</table>\n",
       "<p>1000 rows × 10 columns</p>\n",
       "</div>"
      ],
      "text/plain": [
       "     gender race/ethnicity parental level of education         lunch  \\\n",
       "0    female        group B           bachelor's degree      standard   \n",
       "1    female        group C                some college      standard   \n",
       "2    female        group B             master's degree      standard   \n",
       "3      male        group A          associate's degree  free/reduced   \n",
       "4      male        group C                some college      standard   \n",
       "..      ...            ...                         ...           ...   \n",
       "995  female        group E             master's degree      standard   \n",
       "996    male        group C                 high school  free/reduced   \n",
       "997  female        group C                 high school  free/reduced   \n",
       "998  female        group D                some college      standard   \n",
       "999  female        group D                some college  free/reduced   \n",
       "\n",
       "    test preparation course  math score  reading score  writing score  \\\n",
       "0                      none          72             72             74   \n",
       "1                 completed          69             90             88   \n",
       "2                      none          90             95             93   \n",
       "3                      none          47             57             44   \n",
       "4                      none          76             78             75   \n",
       "..                      ...         ...            ...            ...   \n",
       "995               completed          88             99             95   \n",
       "996                    none          62             55             55   \n",
       "997               completed          59             71             65   \n",
       "998               completed          68             78             77   \n",
       "999                    none          77             86             86   \n",
       "\n",
       "     avg of score     performance  \n",
       "0       72.666667      acceptable  \n",
       "1       82.333333      acceptable  \n",
       "2       92.666667      acceptable  \n",
       "3       49.333333  non acceptable  \n",
       "4       76.333333      acceptable  \n",
       "..            ...             ...  \n",
       "995     94.000000      acceptable  \n",
       "996     57.333333      acceptable  \n",
       "997     65.000000      acceptable  \n",
       "998     74.333333      acceptable  \n",
       "999     83.000000      acceptable  \n",
       "\n",
       "[1000 rows x 10 columns]"
      ]
     },
     "execution_count": 2,
     "metadata": {},
     "output_type": "execute_result"
    }
   ],
   "source": [
    "data=pd.read_csv(\"new_std data.csv\")\n",
    "data"
   ]
  },
  {
   "cell_type": "markdown",
   "id": "c702ef26-cb58-49cb-bb47-db7698e7270f",
   "metadata": {},
   "source": [
    "# head()"
   ]
  },
  {
   "cell_type": "markdown",
   "id": "902aa4c7-a9de-4f85-baf2-c84c2ad9f9cc",
   "metadata": {},
   "source": [
    "##### used to display the first few rows of the dataset. "
   ]
  },
  {
   "cell_type": "code",
   "execution_count": 3,
   "id": "97d96932-f4e1-4e07-b908-66b317636dff",
   "metadata": {},
   "outputs": [
    {
     "data": {
      "text/html": [
       "<div>\n",
       "<style scoped>\n",
       "    .dataframe tbody tr th:only-of-type {\n",
       "        vertical-align: middle;\n",
       "    }\n",
       "\n",
       "    .dataframe tbody tr th {\n",
       "        vertical-align: top;\n",
       "    }\n",
       "\n",
       "    .dataframe thead th {\n",
       "        text-align: right;\n",
       "    }\n",
       "</style>\n",
       "<table border=\"1\" class=\"dataframe\">\n",
       "  <thead>\n",
       "    <tr style=\"text-align: right;\">\n",
       "      <th></th>\n",
       "      <th>gender</th>\n",
       "      <th>race/ethnicity</th>\n",
       "      <th>parental level of education</th>\n",
       "      <th>lunch</th>\n",
       "      <th>test preparation course</th>\n",
       "      <th>math score</th>\n",
       "      <th>reading score</th>\n",
       "      <th>writing score</th>\n",
       "      <th>avg of score</th>\n",
       "      <th>performance</th>\n",
       "    </tr>\n",
       "  </thead>\n",
       "  <tbody>\n",
       "    <tr>\n",
       "      <th>0</th>\n",
       "      <td>female</td>\n",
       "      <td>group B</td>\n",
       "      <td>bachelor's degree</td>\n",
       "      <td>standard</td>\n",
       "      <td>none</td>\n",
       "      <td>72</td>\n",
       "      <td>72</td>\n",
       "      <td>74</td>\n",
       "      <td>72.666667</td>\n",
       "      <td>acceptable</td>\n",
       "    </tr>\n",
       "    <tr>\n",
       "      <th>1</th>\n",
       "      <td>female</td>\n",
       "      <td>group C</td>\n",
       "      <td>some college</td>\n",
       "      <td>standard</td>\n",
       "      <td>completed</td>\n",
       "      <td>69</td>\n",
       "      <td>90</td>\n",
       "      <td>88</td>\n",
       "      <td>82.333333</td>\n",
       "      <td>acceptable</td>\n",
       "    </tr>\n",
       "    <tr>\n",
       "      <th>2</th>\n",
       "      <td>female</td>\n",
       "      <td>group B</td>\n",
       "      <td>master's degree</td>\n",
       "      <td>standard</td>\n",
       "      <td>none</td>\n",
       "      <td>90</td>\n",
       "      <td>95</td>\n",
       "      <td>93</td>\n",
       "      <td>92.666667</td>\n",
       "      <td>acceptable</td>\n",
       "    </tr>\n",
       "    <tr>\n",
       "      <th>3</th>\n",
       "      <td>male</td>\n",
       "      <td>group A</td>\n",
       "      <td>associate's degree</td>\n",
       "      <td>free/reduced</td>\n",
       "      <td>none</td>\n",
       "      <td>47</td>\n",
       "      <td>57</td>\n",
       "      <td>44</td>\n",
       "      <td>49.333333</td>\n",
       "      <td>non acceptable</td>\n",
       "    </tr>\n",
       "    <tr>\n",
       "      <th>4</th>\n",
       "      <td>male</td>\n",
       "      <td>group C</td>\n",
       "      <td>some college</td>\n",
       "      <td>standard</td>\n",
       "      <td>none</td>\n",
       "      <td>76</td>\n",
       "      <td>78</td>\n",
       "      <td>75</td>\n",
       "      <td>76.333333</td>\n",
       "      <td>acceptable</td>\n",
       "    </tr>\n",
       "  </tbody>\n",
       "</table>\n",
       "</div>"
      ],
      "text/plain": [
       "   gender race/ethnicity parental level of education         lunch  \\\n",
       "0  female        group B           bachelor's degree      standard   \n",
       "1  female        group C                some college      standard   \n",
       "2  female        group B             master's degree      standard   \n",
       "3    male        group A          associate's degree  free/reduced   \n",
       "4    male        group C                some college      standard   \n",
       "\n",
       "  test preparation course  math score  reading score  writing score  \\\n",
       "0                    none          72             72             74   \n",
       "1               completed          69             90             88   \n",
       "2                    none          90             95             93   \n",
       "3                    none          47             57             44   \n",
       "4                    none          76             78             75   \n",
       "\n",
       "   avg of score     performance  \n",
       "0     72.666667      acceptable  \n",
       "1     82.333333      acceptable  \n",
       "2     92.666667      acceptable  \n",
       "3     49.333333  non acceptable  \n",
       "4     76.333333      acceptable  "
      ]
     },
     "execution_count": 3,
     "metadata": {},
     "output_type": "execute_result"
    }
   ],
   "source": [
    "data.head()"
   ]
  },
  {
   "cell_type": "markdown",
   "id": "a6dc0200-cfcc-4a74-9ff9-c007a8db3fc4",
   "metadata": {},
   "source": [
    "# tail()"
   ]
  },
  {
   "cell_type": "markdown",
   "id": "3a88180a-2d4a-437b-a690-33d48e7619aa",
   "metadata": {},
   "source": [
    "##### used to display the last few rows of the dataset"
   ]
  },
  {
   "cell_type": "code",
   "execution_count": 4,
   "id": "fe8bd10a-eb98-41f4-a947-c80b3b3632f0",
   "metadata": {},
   "outputs": [
    {
     "data": {
      "text/html": [
       "<div>\n",
       "<style scoped>\n",
       "    .dataframe tbody tr th:only-of-type {\n",
       "        vertical-align: middle;\n",
       "    }\n",
       "\n",
       "    .dataframe tbody tr th {\n",
       "        vertical-align: top;\n",
       "    }\n",
       "\n",
       "    .dataframe thead th {\n",
       "        text-align: right;\n",
       "    }\n",
       "</style>\n",
       "<table border=\"1\" class=\"dataframe\">\n",
       "  <thead>\n",
       "    <tr style=\"text-align: right;\">\n",
       "      <th></th>\n",
       "      <th>gender</th>\n",
       "      <th>race/ethnicity</th>\n",
       "      <th>parental level of education</th>\n",
       "      <th>lunch</th>\n",
       "      <th>test preparation course</th>\n",
       "      <th>math score</th>\n",
       "      <th>reading score</th>\n",
       "      <th>writing score</th>\n",
       "      <th>avg of score</th>\n",
       "      <th>performance</th>\n",
       "    </tr>\n",
       "  </thead>\n",
       "  <tbody>\n",
       "    <tr>\n",
       "      <th>995</th>\n",
       "      <td>female</td>\n",
       "      <td>group E</td>\n",
       "      <td>master's degree</td>\n",
       "      <td>standard</td>\n",
       "      <td>completed</td>\n",
       "      <td>88</td>\n",
       "      <td>99</td>\n",
       "      <td>95</td>\n",
       "      <td>94.000000</td>\n",
       "      <td>acceptable</td>\n",
       "    </tr>\n",
       "    <tr>\n",
       "      <th>996</th>\n",
       "      <td>male</td>\n",
       "      <td>group C</td>\n",
       "      <td>high school</td>\n",
       "      <td>free/reduced</td>\n",
       "      <td>none</td>\n",
       "      <td>62</td>\n",
       "      <td>55</td>\n",
       "      <td>55</td>\n",
       "      <td>57.333333</td>\n",
       "      <td>acceptable</td>\n",
       "    </tr>\n",
       "    <tr>\n",
       "      <th>997</th>\n",
       "      <td>female</td>\n",
       "      <td>group C</td>\n",
       "      <td>high school</td>\n",
       "      <td>free/reduced</td>\n",
       "      <td>completed</td>\n",
       "      <td>59</td>\n",
       "      <td>71</td>\n",
       "      <td>65</td>\n",
       "      <td>65.000000</td>\n",
       "      <td>acceptable</td>\n",
       "    </tr>\n",
       "    <tr>\n",
       "      <th>998</th>\n",
       "      <td>female</td>\n",
       "      <td>group D</td>\n",
       "      <td>some college</td>\n",
       "      <td>standard</td>\n",
       "      <td>completed</td>\n",
       "      <td>68</td>\n",
       "      <td>78</td>\n",
       "      <td>77</td>\n",
       "      <td>74.333333</td>\n",
       "      <td>acceptable</td>\n",
       "    </tr>\n",
       "    <tr>\n",
       "      <th>999</th>\n",
       "      <td>female</td>\n",
       "      <td>group D</td>\n",
       "      <td>some college</td>\n",
       "      <td>free/reduced</td>\n",
       "      <td>none</td>\n",
       "      <td>77</td>\n",
       "      <td>86</td>\n",
       "      <td>86</td>\n",
       "      <td>83.000000</td>\n",
       "      <td>acceptable</td>\n",
       "    </tr>\n",
       "  </tbody>\n",
       "</table>\n",
       "</div>"
      ],
      "text/plain": [
       "     gender race/ethnicity parental level of education         lunch  \\\n",
       "995  female        group E             master's degree      standard   \n",
       "996    male        group C                 high school  free/reduced   \n",
       "997  female        group C                 high school  free/reduced   \n",
       "998  female        group D                some college      standard   \n",
       "999  female        group D                some college  free/reduced   \n",
       "\n",
       "    test preparation course  math score  reading score  writing score  \\\n",
       "995               completed          88             99             95   \n",
       "996                    none          62             55             55   \n",
       "997               completed          59             71             65   \n",
       "998               completed          68             78             77   \n",
       "999                    none          77             86             86   \n",
       "\n",
       "     avg of score performance  \n",
       "995     94.000000  acceptable  \n",
       "996     57.333333  acceptable  \n",
       "997     65.000000  acceptable  \n",
       "998     74.333333  acceptable  \n",
       "999     83.000000  acceptable  "
      ]
     },
     "execution_count": 4,
     "metadata": {},
     "output_type": "execute_result"
    }
   ],
   "source": [
    "data.tail()"
   ]
  },
  {
   "cell_type": "markdown",
   "id": "28b36148-ec46-4fbc-bdf0-a3856aebed5f",
   "metadata": {},
   "source": [
    "# Cleaning Process"
   ]
  },
  {
   "cell_type": "markdown",
   "id": "0301bd38-a322-40af-8a94-1ecbf69b4bac",
   "metadata": {},
   "source": [
    "##### removing incorrect, corrupted, incorrectly formatted, duplicate, or incomplete data within a dataset.\n",
    "##### Fix structural errors,Filter unwanted outliers,Handle missing data."
   ]
  },
  {
   "cell_type": "markdown",
   "id": "a1ac7411-fde8-4de1-8208-45f9e48dc10b",
   "metadata": {},
   "source": [
    "# shape"
   ]
  },
  {
   "cell_type": "markdown",
   "id": "ca0e0441-3131-447b-bd54-b826f99ea7fe",
   "metadata": {},
   "source": [
    "##### used to the number of rows and the number of columns in the dataset"
   ]
  },
  {
   "cell_type": "code",
   "execution_count": 5,
   "id": "7d92538c-47f0-41e6-8c6b-45cabaaa9f04",
   "metadata": {},
   "outputs": [
    {
     "data": {
      "text/plain": [
       "(1000, 10)"
      ]
     },
     "execution_count": 5,
     "metadata": {},
     "output_type": "execute_result"
    }
   ],
   "source": [
    "data.shape"
   ]
  },
  {
   "cell_type": "markdown",
   "id": "6e3b3d50-ab10-492b-8839-d3693e103d36",
   "metadata": {},
   "source": [
    "# isnull().sum()"
   ]
  },
  {
   "cell_type": "markdown",
   "id": "d9a918e3-a8dd-47b2-9628-effefa7df087",
   "metadata": {},
   "source": [
    "##### Find out all the Null Values in the data."
   ]
  },
  {
   "cell_type": "code",
   "execution_count": 6,
   "id": "88d4f257-0241-4714-a4d5-70bf81f72309",
   "metadata": {},
   "outputs": [
    {
     "data": {
      "text/plain": [
       "gender                         0\n",
       "race/ethnicity                 0\n",
       "parental level of education    0\n",
       "lunch                          0\n",
       "test preparation course        0\n",
       "math score                     0\n",
       "reading score                  0\n",
       "writing score                  0\n",
       "avg of score                   0\n",
       "performance                    0\n",
       "dtype: int64"
      ]
     },
     "execution_count": 6,
     "metadata": {},
     "output_type": "execute_result"
    }
   ],
   "source": [
    "data.isnull().sum()"
   ]
  },
  {
   "cell_type": "markdown",
   "id": "35c453a3-26be-415a-b937-c988b1fdf82a",
   "metadata": {},
   "source": [
    "# notnull().sum()"
   ]
  },
  {
   "cell_type": "markdown",
   "id": "f9c75d4a-5d43-40e9-8a94-d27a470fedfc",
   "metadata": {},
   "source": [
    "#####  counts the number of non-null (or non-missing) values in each column of the data frame"
   ]
  },
  {
   "cell_type": "code",
   "execution_count": 7,
   "id": "f8fbde39-5312-47bd-a8a7-f1d790eed90c",
   "metadata": {},
   "outputs": [
    {
     "data": {
      "text/plain": [
       "gender                         1000\n",
       "race/ethnicity                 1000\n",
       "parental level of education    1000\n",
       "lunch                          1000\n",
       "test preparation course        1000\n",
       "math score                     1000\n",
       "reading score                  1000\n",
       "writing score                  1000\n",
       "avg of score                   1000\n",
       "performance                    1000\n",
       "dtype: int64"
      ]
     },
     "execution_count": 7,
     "metadata": {},
     "output_type": "execute_result"
    }
   ],
   "source": [
    "data.notnull().sum()"
   ]
  },
  {
   "cell_type": "code",
   "execution_count": 8,
   "id": "ef2e5dee-6433-4c77-8fd2-8aaf79e03191",
   "metadata": {},
   "outputs": [
    {
     "data": {
      "text/plain": [
       "Index(['gender', 'race/ethnicity', 'parental level of education', 'lunch',\n",
       "       'test preparation course', 'math score', 'reading score',\n",
       "       'writing score', 'avg of score', 'performance'],\n",
       "      dtype='object')"
      ]
     },
     "execution_count": 8,
     "metadata": {},
     "output_type": "execute_result"
    }
   ],
   "source": [
    "data.columns"
   ]
  },
  {
   "cell_type": "markdown",
   "id": "25426be5-a4c1-4ad6-9a0e-645e9c55672f",
   "metadata": {},
   "source": [
    "# dtypes"
   ]
  },
  {
   "attachments": {},
   "cell_type": "markdown",
   "id": "9ee0a91f-5c97-408d-a84e-ca67f1d193f1",
   "metadata": {},
   "source": [
    "##### dtypes It shows the data-type of each column\r\n"
   ]
  },
  {
   "cell_type": "code",
   "execution_count": 9,
   "id": "10ea2481-b057-43e8-a2f3-1a978c6bce0a",
   "metadata": {},
   "outputs": [
    {
     "data": {
      "text/plain": [
       "gender                          object\n",
       "race/ethnicity                  object\n",
       "parental level of education     object\n",
       "lunch                           object\n",
       "test preparation course         object\n",
       "math score                       int64\n",
       "reading score                    int64\n",
       "writing score                    int64\n",
       "avg of score                   float64\n",
       "performance                     object\n",
       "dtype: object"
      ]
     },
     "execution_count": 9,
     "metadata": {},
     "output_type": "execute_result"
    }
   ],
   "source": [
    "data.dtypes"
   ]
  },
  {
   "cell_type": "markdown",
   "id": "2883373e-3fbd-4330-ac8f-85e4e167a632",
   "metadata": {},
   "source": [
    "# info()"
   ]
  },
  {
   "cell_type": "markdown",
   "id": "a1f3dc72-4fc2-43cf-a09e-eb4692b2c578",
   "metadata": {},
   "source": [
    "##### info() Provides basic information about the dataframe"
   ]
  },
  {
   "cell_type": "code",
   "execution_count": 10,
   "id": "60a1556e-8708-434b-b02d-82089b4f20bb",
   "metadata": {},
   "outputs": [
    {
     "name": "stdout",
     "output_type": "stream",
     "text": [
      "<class 'pandas.core.frame.DataFrame'>\n",
      "RangeIndex: 1000 entries, 0 to 999\n",
      "Data columns (total 10 columns):\n",
      " #   Column                       Non-Null Count  Dtype  \n",
      "---  ------                       --------------  -----  \n",
      " 0   gender                       1000 non-null   object \n",
      " 1   race/ethnicity               1000 non-null   object \n",
      " 2   parental level of education  1000 non-null   object \n",
      " 3   lunch                        1000 non-null   object \n",
      " 4   test preparation course      1000 non-null   object \n",
      " 5   math score                   1000 non-null   int64  \n",
      " 6   reading score                1000 non-null   int64  \n",
      " 7   writing score                1000 non-null   int64  \n",
      " 8   avg of score                 1000 non-null   float64\n",
      " 9   performance                  1000 non-null   object \n",
      "dtypes: float64(1), int64(3), object(6)\n",
      "memory usage: 78.3+ KB\n"
     ]
    }
   ],
   "source": [
    "data.info()"
   ]
  },
  {
   "cell_type": "markdown",
   "id": "fd61c533-6852-4401-bb69-40bb91df88ad",
   "metadata": {},
   "source": [
    "# unique()"
   ]
  },
  {
   "cell_type": "markdown",
   "id": "699b6f0c-23c0-41be-9756-bf295c107a88",
   "metadata": {},
   "source": [
    "##### .unique() In a column.It shows all the unique values.It can be applied on a single column only,not on the whole dataframe"
   ]
  },
  {
   "cell_type": "code",
   "execution_count": 11,
   "id": "74b1f6e4-3535-4c3d-8317-064f4e296eaf",
   "metadata": {},
   "outputs": [
    {
     "data": {
      "text/plain": [
       "array([\"bachelor's degree\", 'some college', \"master's degree\",\n",
       "       \"associate's degree\", 'high school', 'some high school'],\n",
       "      dtype=object)"
      ]
     },
     "execution_count": 11,
     "metadata": {},
     "output_type": "execute_result"
    }
   ],
   "source": [
    "data['parental level of education'].unique()"
   ]
  },
  {
   "cell_type": "markdown",
   "id": "e68022c6-f3c6-4855-aa94-93e37a618e5c",
   "metadata": {},
   "source": [
    "# nunique()"
   ]
  },
  {
   "cell_type": "markdown",
   "id": "434057fe-e4c3-43b1-94e0-452c1494ed50",
   "metadata": {},
   "source": [
    "##### nunique() It shows the total no.of unique values in each column.It can be applied on a single column as well as on whole dataframe"
   ]
  },
  {
   "cell_type": "code",
   "execution_count": 12,
   "id": "75b368dc-a8a3-4b11-b02a-a7d43c0d6a6c",
   "metadata": {},
   "outputs": [
    {
     "data": {
      "text/plain": [
       "gender                           2\n",
       "race/ethnicity                   5\n",
       "parental level of education      6\n",
       "lunch                            2\n",
       "test preparation course          2\n",
       "math score                      81\n",
       "reading score                   72\n",
       "writing score                   77\n",
       "avg of score                   194\n",
       "performance                      2\n",
       "dtype: int64"
      ]
     },
     "execution_count": 12,
     "metadata": {},
     "output_type": "execute_result"
    }
   ],
   "source": [
    "data.nunique()"
   ]
  },
  {
   "cell_type": "markdown",
   "id": "9a45888a-8a29-4094-9b7f-ce6d0dafbca8",
   "metadata": {},
   "source": [
    "# count()"
   ]
  },
  {
   "cell_type": "markdown",
   "id": "38c44b6d-2ddc-4d93-851a-598f3dd99aed",
   "metadata": {},
   "source": [
    "##### count It shows the total no.of non-null in each column.It can be applied on a single column as well as on whole dataframe"
   ]
  },
  {
   "cell_type": "code",
   "execution_count": 13,
   "id": "4b1110d5-979a-4253-bb58-f1f56527d690",
   "metadata": {},
   "outputs": [
    {
     "data": {
      "text/plain": [
       "gender                         1000\n",
       "race/ethnicity                 1000\n",
       "parental level of education    1000\n",
       "lunch                          1000\n",
       "test preparation course        1000\n",
       "math score                     1000\n",
       "reading score                  1000\n",
       "writing score                  1000\n",
       "avg of score                   1000\n",
       "performance                    1000\n",
       "dtype: int64"
      ]
     },
     "execution_count": 13,
     "metadata": {},
     "output_type": "execute_result"
    }
   ],
   "source": [
    "data.count()"
   ]
  },
  {
   "cell_type": "markdown",
   "id": "e62c525c-d74a-44a7-9529-490e11f8ad53",
   "metadata": {},
   "source": [
    "# value_counts"
   ]
  },
  {
   "cell_type": "markdown",
   "id": "68355003-1770-4fad-92ea-c25f7e339328",
   "metadata": {},
   "source": [
    "##### value_counts In a column,It shows all the unique values with their count.It can be applied on single column only.\r\n"
   ]
  },
  {
   "cell_type": "code",
   "execution_count": 14,
   "id": "40ae3fc9-827b-4f7c-91af-0231e6013ac2",
   "metadata": {},
   "outputs": [
    {
     "data": {
      "text/plain": [
       "parental level of education\n",
       "some college          226\n",
       "associate's degree    222\n",
       "high school           196\n",
       "some high school      179\n",
       "bachelor's degree     118\n",
       "master's degree        59\n",
       "Name: count, dtype: int64"
      ]
     },
     "execution_count": 14,
     "metadata": {},
     "output_type": "execute_result"
    }
   ],
   "source": [
    "data['parental level of education'].value_counts()"
   ]
  },
  {
   "cell_type": "markdown",
   "id": "3e2752c2-d2ee-4f96-ac35-b49ac21875eb",
   "metadata": {},
   "source": [
    "# describe()"
   ]
  },
  {
   "cell_type": "markdown",
   "id": "ec69e810-6611-4a78-a622-6f9ba099c1ae",
   "metadata": {},
   "source": [
    "##### summary statistics of your dataset"
   ]
  },
  {
   "cell_type": "code",
   "execution_count": 15,
   "id": "31b99ec0-e475-4255-95d9-8f6bfd478314",
   "metadata": {},
   "outputs": [
    {
     "data": {
      "text/html": [
       "<div>\n",
       "<style scoped>\n",
       "    .dataframe tbody tr th:only-of-type {\n",
       "        vertical-align: middle;\n",
       "    }\n",
       "\n",
       "    .dataframe tbody tr th {\n",
       "        vertical-align: top;\n",
       "    }\n",
       "\n",
       "    .dataframe thead th {\n",
       "        text-align: right;\n",
       "    }\n",
       "</style>\n",
       "<table border=\"1\" class=\"dataframe\">\n",
       "  <thead>\n",
       "    <tr style=\"text-align: right;\">\n",
       "      <th></th>\n",
       "      <th>math score</th>\n",
       "      <th>reading score</th>\n",
       "      <th>writing score</th>\n",
       "      <th>avg of score</th>\n",
       "    </tr>\n",
       "  </thead>\n",
       "  <tbody>\n",
       "    <tr>\n",
       "      <th>count</th>\n",
       "      <td>1000.00000</td>\n",
       "      <td>1000.000000</td>\n",
       "      <td>1000.000000</td>\n",
       "      <td>1000.000000</td>\n",
       "    </tr>\n",
       "    <tr>\n",
       "      <th>mean</th>\n",
       "      <td>66.08900</td>\n",
       "      <td>69.169000</td>\n",
       "      <td>68.054000</td>\n",
       "      <td>67.770667</td>\n",
       "    </tr>\n",
       "    <tr>\n",
       "      <th>std</th>\n",
       "      <td>15.16308</td>\n",
       "      <td>14.600192</td>\n",
       "      <td>15.195657</td>\n",
       "      <td>14.257326</td>\n",
       "    </tr>\n",
       "    <tr>\n",
       "      <th>min</th>\n",
       "      <td>0.00000</td>\n",
       "      <td>17.000000</td>\n",
       "      <td>10.000000</td>\n",
       "      <td>9.000000</td>\n",
       "    </tr>\n",
       "    <tr>\n",
       "      <th>25%</th>\n",
       "      <td>57.00000</td>\n",
       "      <td>59.000000</td>\n",
       "      <td>57.750000</td>\n",
       "      <td>58.333333</td>\n",
       "    </tr>\n",
       "    <tr>\n",
       "      <th>50%</th>\n",
       "      <td>66.00000</td>\n",
       "      <td>70.000000</td>\n",
       "      <td>69.000000</td>\n",
       "      <td>68.333333</td>\n",
       "    </tr>\n",
       "    <tr>\n",
       "      <th>75%</th>\n",
       "      <td>77.00000</td>\n",
       "      <td>79.000000</td>\n",
       "      <td>79.000000</td>\n",
       "      <td>77.666667</td>\n",
       "    </tr>\n",
       "    <tr>\n",
       "      <th>max</th>\n",
       "      <td>100.00000</td>\n",
       "      <td>100.000000</td>\n",
       "      <td>100.000000</td>\n",
       "      <td>100.000000</td>\n",
       "    </tr>\n",
       "  </tbody>\n",
       "</table>\n",
       "</div>"
      ],
      "text/plain": [
       "       math score  reading score  writing score  avg of score\n",
       "count  1000.00000    1000.000000    1000.000000   1000.000000\n",
       "mean     66.08900      69.169000      68.054000     67.770667\n",
       "std      15.16308      14.600192      15.195657     14.257326\n",
       "min       0.00000      17.000000      10.000000      9.000000\n",
       "25%      57.00000      59.000000      57.750000     58.333333\n",
       "50%      66.00000      70.000000      69.000000     68.333333\n",
       "75%      77.00000      79.000000      79.000000     77.666667\n",
       "max     100.00000     100.000000     100.000000    100.000000"
      ]
     },
     "execution_count": 15,
     "metadata": {},
     "output_type": "execute_result"
    }
   ],
   "source": [
    "data.describe()"
   ]
  },
  {
   "cell_type": "code",
   "execution_count": 16,
   "id": "9830aa17-7510-4d58-9070-019847f02e29",
   "metadata": {},
   "outputs": [
    {
     "data": {
      "text/plain": [
       "RangeIndex(start=0, stop=1000, step=1)"
      ]
     },
     "execution_count": 16,
     "metadata": {},
     "output_type": "execute_result"
    }
   ],
   "source": [
    "data.index"
   ]
  },
  {
   "cell_type": "markdown",
   "id": "4c675230-53d3-434a-bfde-842522086bc5",
   "metadata": {},
   "source": [
    "# Using Groupby "
   ]
  },
  {
   "cell_type": "markdown",
   "id": "19569875-3389-42a4-a762-7c0353758a18",
   "metadata": {},
   "source": [
    "##### used to split the data into groups based on some criteria, apply a function to each group independently, and then combine the results into a data structure."
   ]
  },
  {
   "cell_type": "code",
   "execution_count": 17,
   "id": "285310b8-7314-4b2e-9a38-9b74ee87bec0",
   "metadata": {},
   "outputs": [
    {
     "data": {
      "text/plain": [
       "gender\n",
       "female    518\n",
       "male      482\n",
       "Name: gender, dtype: int64"
      ]
     },
     "execution_count": 17,
     "metadata": {},
     "output_type": "execute_result"
    }
   ],
   "source": [
    "data.groupby(\"gender\").gender.count()"
   ]
  },
  {
   "cell_type": "code",
   "execution_count": 18,
   "id": "7db848c2-0509-4f2d-b1dd-408c0e9d15f2",
   "metadata": {},
   "outputs": [
    {
     "name": "stdout",
     "output_type": "stream",
     "text": [
      "mean     67.770667\n",
      "max     100.000000\n",
      "min       9.000000\n",
      "Name: avg of score, dtype: float64\n"
     ]
    }
   ],
   "source": [
    "summary_stats = data['avg of score'].agg(['mean', 'max', 'min'])\n",
    "\n",
    "# Printing the summary statistics\n",
    "print(summary_stats)"
   ]
  },
  {
   "cell_type": "markdown",
   "id": "5cf48f19-11b5-411a-9bb2-e99e4de43425",
   "metadata": {},
   "source": [
    "# Find the Outliers"
   ]
  },
  {
   "cell_type": "markdown",
   "id": "88485954-1400-49fd-be73-1152f8bff94a",
   "metadata": {},
   "source": [
    "#### To detect outliers using boxplot"
   ]
  },
  {
   "cell_type": "markdown",
   "id": "ce34896b-6b72-436d-9d8e-ad5929c39c2d",
   "metadata": {},
   "source": [
    "The box plot is a useful graphical display for describing the behavior of the data in the middle as well as at the ends of the distributions. The box plot uses the median and the lower and upper quartiles (defined as the 25th and 75th percentiles). If the lower quartile is Q1 and the upper quartile is Q3, then the difference (Q3 - Q1) is called the interquartile range or IQ."
   ]
  },
  {
   "cell_type": "markdown",
   "id": "d8a2072a-254e-4feb-9643-3521fb1cc394",
   "metadata": {},
   "source": [
    " 1)lower inner fence=Q1-1.5*IQ 2)upper inner fence=Q3+1.5*IQ 3)lower outer fence=Q1-3*IQ 4)upper outer fence=Q3+3*IQ"
   ]
  },
  {
   "cell_type": "code",
   "execution_count": 19,
   "id": "9357b422-4124-4081-8d52-402c9f8a46ac",
   "metadata": {},
   "outputs": [],
   "source": [
    "data_to_plot=[data['math score'],data['reading score'],data['writing score']]"
   ]
  },
  {
   "cell_type": "code",
   "execution_count": 20,
   "id": "6da07ead-0b49-4a13-afde-65fb40583d57",
   "metadata": {},
   "outputs": [
    {
     "data": {
      "text/plain": [
       "{'whiskers': [<matplotlib.lines.Line2D at 0x1980fc065d0>,\n",
       "  <matplotlib.lines.Line2D at 0x1980fc07110>,\n",
       "  <matplotlib.lines.Line2D at 0x1980fc129d0>,\n",
       "  <matplotlib.lines.Line2D at 0x1980fc132d0>,\n",
       "  <matplotlib.lines.Line2D at 0x1980fc1eb90>,\n",
       "  <matplotlib.lines.Line2D at 0x1980fc1f4d0>],\n",
       " 'caps': [<matplotlib.lines.Line2D at 0x1980fb99550>,\n",
       "  <matplotlib.lines.Line2D at 0x1980fc10410>,\n",
       "  <matplotlib.lines.Line2D at 0x1980fc13c90>,\n",
       "  <matplotlib.lines.Line2D at 0x1980fc1c5d0>,\n",
       "  <matplotlib.lines.Line2D at 0x1980fc1fd90>,\n",
       "  <matplotlib.lines.Line2D at 0x1980fc2c690>],\n",
       " 'boxes': [<matplotlib.lines.Line2D at 0x1980fc05a10>,\n",
       "  <matplotlib.lines.Line2D at 0x1980fc12010>,\n",
       "  <matplotlib.lines.Line2D at 0x1980fc1e250>],\n",
       " 'medians': [<matplotlib.lines.Line2D at 0x1980fc10d10>,\n",
       "  <matplotlib.lines.Line2D at 0x1980fc1ce90>,\n",
       "  <matplotlib.lines.Line2D at 0x1980fc2cf50>],\n",
       " 'fliers': [<matplotlib.lines.Line2D at 0x1980fc11690>,\n",
       "  <matplotlib.lines.Line2D at 0x1980fc1d850>,\n",
       "  <matplotlib.lines.Line2D at 0x1980fc2d7d0>],\n",
       " 'means': []}"
      ]
     },
     "execution_count": 20,
     "metadata": {},
     "output_type": "execute_result"
    },
    {
     "data": {
      "image/png": "[encoded data removed]",
      "text/plain": [
       "<Figure size 640x480 with 1 Axes>"
      ]
     },
     "metadata": {},
     "output_type": "display_data"
    }
   ],
   "source": [
    "plt.boxplot(data_to_plot,labels=['math score','reading score','writing score'],flierprops=dict(markerfacecolor='red'))"
   ]
  },
  {
   "cell_type": "markdown",
   "id": "756b069a-bd6d-4a4b-a111-338c15f16291",
   "metadata": {},
   "source": [
    "# Check the Normality in Dataset"
   ]
  },
  {
   "cell_type": "markdown",
   "id": "ce4e62a2-5a94-46b8-8334-e0be94c239d7",
   "metadata": {},
   "source": [
    " Normal distribution, also known as Gaussian distribution, is the most important statistical probability distribution for independent random variables.Most researchers will recognize it as the familiar bell-shaped curve present in statistical reports. Normal distributions are appropriate for continuous variables. It is a probability distribution that is symmetric about the mean"
   ]
  },
  {
   "cell_type": "markdown",
   "id": "5109c814-c84a-428f-ade4-46bb8b92178f",
   "metadata": {},
   "source": [
    "##### What is the mean,median and Standard deviation 'math score'?"
   ]
  },
  {
   "cell_type": "code",
   "execution_count": 21,
   "id": "9cd8b0ce-a828-4db5-b9ca-37b14b72d0a7",
   "metadata": {},
   "outputs": [
    {
     "data": {
      "text/plain": [
       "66.089"
      ]
     },
     "execution_count": 21,
     "metadata": {},
     "output_type": "execute_result"
    }
   ],
   "source": [
    "data['math score'].mean()"
   ]
  },
  {
   "cell_type": "code",
   "execution_count": 22,
   "id": "75fc3730-5f54-446b-821d-27e5d0240166",
   "metadata": {},
   "outputs": [
    {
     "data": {
      "text/plain": [
       "66.0"
      ]
     },
     "execution_count": 22,
     "metadata": {},
     "output_type": "execute_result"
    }
   ],
   "source": [
    "data['math score'].median()"
   ]
  },
  {
   "cell_type": "code",
   "execution_count": 23,
   "id": "958ee02b-eb7a-44d0-92b0-8c258ef8c70d",
   "metadata": {},
   "outputs": [
    {
     "data": {
      "text/plain": [
       "15.16308009600945"
      ]
     },
     "execution_count": 23,
     "metadata": {},
     "output_type": "execute_result"
    }
   ],
   "source": [
    "data['math score'].std()"
   ]
  },
  {
   "cell_type": "markdown",
   "id": "1c5c4aeb-95a3-44e1-827e-b089c6d69143",
   "metadata": {},
   "source": [
    "##### What is the mean,median and Standard deviation 'reading score'?"
   ]
  },
  {
   "cell_type": "code",
   "execution_count": 24,
   "id": "608330cc-334c-4b55-a434-df3c2efad2c6",
   "metadata": {},
   "outputs": [
    {
     "data": {
      "text/plain": [
       "69.169"
      ]
     },
     "execution_count": 24,
     "metadata": {},
     "output_type": "execute_result"
    }
   ],
   "source": [
    "data['reading score'].mean()"
   ]
  },
  {
   "cell_type": "code",
   "execution_count": 25,
   "id": "bd9e1ea9-ca14-4515-9b6b-aaf3a9d161c7",
   "metadata": {},
   "outputs": [
    {
     "data": {
      "text/plain": [
       "70.0"
      ]
     },
     "execution_count": 25,
     "metadata": {},
     "output_type": "execute_result"
    }
   ],
   "source": [
    "data['reading score'].median()"
   ]
  },
  {
   "cell_type": "code",
   "execution_count": 26,
   "id": "d59bc7af-821f-430a-85fb-97fdb40b033f",
   "metadata": {},
   "outputs": [
    {
     "data": {
      "text/plain": [
       "14.600191937252216"
      ]
     },
     "execution_count": 26,
     "metadata": {},
     "output_type": "execute_result"
    }
   ],
   "source": [
    "data['reading score'].std()"
   ]
  },
  {
   "cell_type": "markdown",
   "id": "ff9a466b-a37c-46ea-892c-81e181da256d",
   "metadata": {},
   "source": [
    "##### What is the mean,median and Standard deviation 'writing score'?"
   ]
  },
  {
   "cell_type": "code",
   "execution_count": 27,
   "id": "23b959db-81ad-406f-b3c6-76abdaf99fb8",
   "metadata": {},
   "outputs": [
    {
     "data": {
      "text/plain": [
       "68.054"
      ]
     },
     "execution_count": 27,
     "metadata": {},
     "output_type": "execute_result"
    }
   ],
   "source": [
    "data['writing score'].mean()"
   ]
  },
  {
   "cell_type": "code",
   "execution_count": 28,
   "id": "23115717-6938-47e1-9a5d-4a0c913e6d0a",
   "metadata": {},
   "outputs": [
    {
     "data": {
      "text/plain": [
       "69.0"
      ]
     },
     "execution_count": 28,
     "metadata": {},
     "output_type": "execute_result"
    }
   ],
   "source": [
    "data['writing score'].median()"
   ]
  },
  {
   "cell_type": "code",
   "execution_count": 29,
   "id": "58fce24b-2e9b-4ca9-90bc-0bd0355ff6ad",
   "metadata": {},
   "outputs": [
    {
     "data": {
      "text/plain": [
       "15.19565701086965"
      ]
     },
     "execution_count": 29,
     "metadata": {},
     "output_type": "execute_result"
    }
   ],
   "source": [
    "data['writing score'].std()"
   ]
  },
  {
   "cell_type": "markdown",
   "id": "fdb1ed3f-9533-41bd-ad7c-d1ccd6b6c4e9",
   "metadata": {},
   "source": [
    "# Graphical Methods to check Normality"
   ]
  },
  {
   "cell_type": "markdown",
   "id": "57b619f3-5fb8-4af7-96c7-68bca0ca4002",
   "metadata": {},
   "source": [
    " An informal approach to testing normality is to compare a histogram of the sample data to a normal probability curve. The empirical distribution  of the data (the histogram) should be bell-shaped and resemble the normal distribution. A graphical tool for assessing normality is the normal probability plot, a quantile-quantile plot (QQ plot) of the standardized data against the standard normal distribution. Here the correlation between the sample data and normal quantiles (a measure of the goodness of fit) measures how well the data are modeled by a normal distribution\n"
   ]
  },
  {
   "cell_type": "code",
   "execution_count": 30,
   "id": "3e3cd076-89ea-49df-b552-5866d6751b9b",
   "metadata": {},
   "outputs": [
    {
     "data": {
      "text/plain": [
       "array([[<Axes: title={'center': 'math score'}>,\n",
       "        <Axes: title={'center': 'reading score'}>],\n",
       "       [<Axes: title={'center': 'writing score'}>,\n",
       "        <Axes: title={'center': 'avg of score'}>]], dtype=object)"
      ]
     },
     "execution_count": 30,
     "metadata": {},
     "output_type": "execute_result"
    },
    {
     "data": {
      "image/png": "[encoded data removed]",
      "text/plain": [
       "<Figure size 640x480 with 4 Axes>"
      ]
     },
     "metadata": {},
     "output_type": "display_data"
    }
   ],
   "source": [
    "data.hist()"
   ]
  },
  {
   "cell_type": "code",
   "execution_count": 31,
   "id": "18e79df2-ffb8-4b3d-950f-f194ab64681c",
   "metadata": {},
   "outputs": [
    {
     "data": {
      "image/png": "[encoded data removed]",
      "text/plain": [
       "<Figure size 500x500 with 1 Axes>"
      ]
     },
     "metadata": {},
     "output_type": "display_data"
    }
   ],
   "source": [
    "n=data['math score']\n",
    "n\n",
    "sns.displot(x=n,kde=True)\n",
    "plt.show()"
   ]
  },
  {
   "cell_type": "markdown",
   "id": "2391a0ac-169e-4860-bf3d-563f3baaf510",
   "metadata": {},
   "source": [
    "#### math score is Normal distribution\n"
   ]
  },
  {
   "cell_type": "code",
   "execution_count": 32,
   "id": "572327c9-5b01-4143-82fb-d41c97c756db",
   "metadata": {},
   "outputs": [
    {
     "data": {
      "image/png": "[encoded data removed]",
      "text/plain": [
       "<Figure size 500x500 with 1 Axes>"
      ]
     },
     "metadata": {},
     "output_type": "display_data"
    }
   ],
   "source": [
    "l=data['reading score']\n",
    "l\n",
    "sns.displot(x=l,kde=True)\n",
    "plt.show()"
   ]
  },
  {
   "cell_type": "markdown",
   "id": "84c33b68-aeca-4689-b63f-cedb043def2d",
   "metadata": {},
   "source": [
    "#### reading score is Normal distribution"
   ]
  },
  {
   "cell_type": "code",
   "execution_count": 33,
   "id": "5cbe1d79-da1a-4342-80f7-24aeab1e2b20",
   "metadata": {},
   "outputs": [
    {
     "data": {
      "image/png": "[encoded data removed]",
      "text/plain": [
       "<Figure size 500x500 with 1 Axes>"
      ]
     },
     "metadata": {},
     "output_type": "display_data"
    }
   ],
   "source": [
    "m=data['writing score']\n",
    "m\n",
    "sns.displot(x=m,kde=True)\n",
    "plt.show()"
   ]
  },
  {
   "cell_type": "markdown",
   "id": "a1da285d-8322-4e20-a344-3e328590dbe0",
   "metadata": {},
   "source": [
    "#### writing score is Normal distribution"
   ]
  },
  {
   "cell_type": "markdown",
   "id": "2b7cfc17-4d85-46f1-9c62-0d9e86b47deb",
   "metadata": {},
   "source": [
    "## Correlations"
   ]
  },
  {
   "cell_type": "markdown",
   "id": "42daad11-07ce-43e4-8d61-782b48b6cba3",
   "metadata": {},
   "source": [
    "##### Correlation only measures the strength and direction of the linear relationship between variables."
   ]
  },
  {
   "cell_type": "markdown",
   "id": "5924a1b0-ac77-48db-99b1-8112008c98b0",
   "metadata": {},
   "source": [
    "##### Correlations in reading score ,writing score and math score"
   ]
  },
  {
   "cell_type": "code",
   "execution_count": 34,
   "id": "d74cc311-0e1a-4e97-a7fd-62080f994165",
   "metadata": {},
   "outputs": [
    {
     "data": {
      "text/html": [
       "<div>\n",
       "<style scoped>\n",
       "    .dataframe tbody tr th:only-of-type {\n",
       "        vertical-align: middle;\n",
       "    }\n",
       "\n",
       "    .dataframe tbody tr th {\n",
       "        vertical-align: top;\n",
       "    }\n",
       "\n",
       "    .dataframe thead th {\n",
       "        text-align: right;\n",
       "    }\n",
       "</style>\n",
       "<table border=\"1\" class=\"dataframe\">\n",
       "  <thead>\n",
       "    <tr style=\"text-align: right;\">\n",
       "      <th></th>\n",
       "      <th>reading score</th>\n",
       "      <th>writing score</th>\n",
       "      <th>math score</th>\n",
       "    </tr>\n",
       "  </thead>\n",
       "  <tbody>\n",
       "    <tr>\n",
       "      <th>reading score</th>\n",
       "      <td>1.000000</td>\n",
       "      <td>0.954598</td>\n",
       "      <td>0.817580</td>\n",
       "    </tr>\n",
       "    <tr>\n",
       "      <th>writing score</th>\n",
       "      <td>0.954598</td>\n",
       "      <td>1.000000</td>\n",
       "      <td>0.802642</td>\n",
       "    </tr>\n",
       "    <tr>\n",
       "      <th>math score</th>\n",
       "      <td>0.817580</td>\n",
       "      <td>0.802642</td>\n",
       "      <td>1.000000</td>\n",
       "    </tr>\n",
       "  </tbody>\n",
       "</table>\n",
       "</div>"
      ],
      "text/plain": [
       "               reading score  writing score  math score\n",
       "reading score       1.000000       0.954598    0.817580\n",
       "writing score       0.954598       1.000000    0.802642\n",
       "math score          0.817580       0.802642    1.000000"
      ]
     },
     "execution_count": 34,
     "metadata": {},
     "output_type": "execute_result"
    }
   ],
   "source": [
    "scores = data[['reading score', 'writing score', 'math score']].corr()\n",
    "scores"
   ]
  },
  {
   "cell_type": "markdown",
   "id": "8d1eea5c-ec0a-423e-8c93-71d108022d51",
   "metadata": {},
   "source": [
    " This script will display a heatmap showing the correlations between 'reading score', 'writing score', and 'math score'. Positive correlations are indicated by lighter colors, while negative correlations are indicated by darker colors. The intensity of the color represents the strength of the correlation.\r\n",
    "\r\n",
    "\r\n"
   ]
  },
  {
   "cell_type": "code",
   "execution_count": 35,
   "id": "468d3262-4705-4469-9a9e-a0a6c2922111",
   "metadata": {},
   "outputs": [
    {
     "data": {
      "image/png": "[encoded data removed]",
      "text/plain": [
       "<Figure size 1000x800 with 2 Axes>"
      ]
     },
     "metadata": {},
     "output_type": "display_data"
    }
   ],
   "source": [
    "def plotCorrelationMatrix(data, figsize=(10, 8)):\n",
    "    '''\n",
    "    Plot correlation matrix for the given DataFrame data.\n",
    "    \n",
    "    Parameters:\n",
    "        data (DataFrame): Input data.\n",
    "        figsize (tuple): Figure size. Default is (10, 8).\n",
    "    '''\n",
    "    plt.figure(figsize=figsize)\n",
    "    sns.heatmap(data, annot=True, cmap='coolwarm', fmt=\".2f\", linewidths=0.5)\n",
    "    plt.title('Correlation Matrix')\n",
    "    plt.show()\n",
    "# Selecting the columns of interest\n",
    "scores = data[['reading score', 'writing score', 'math score']]\n",
    "\n",
    "# Computing the correlation matrix\n",
    "correlation_matrix = scores.corr()\n",
    "\n",
    "# Plotting the correlation matrix\n",
    "plotCorrelationMatrix(correlation_matrix)"
   ]
  },
  {
   "cell_type": "markdown",
   "id": "8d081c53-dbdf-4f18-8bb0-3249048b4063",
   "metadata": {},
   "source": [
    "#### reading score,writing score and math score are strongly correlated to each other"
   ]
  },
  {
   "cell_type": "markdown",
   "id": "fc31525d-d52d-46e2-957b-0e453f9136bb",
   "metadata": {},
   "source": [
    "# sample"
   ]
  },
  {
   "cell_type": "markdown",
   "id": "3f4dd5f0-91a0-41ef-b20c-cf883d586229",
   "metadata": {},
   "source": [
    "##### The sample is select by simple random sampling method for t test."
   ]
  },
  {
   "cell_type": "code",
   "execution_count": 36,
   "id": "6f71cde6-176a-4a7a-8aa3-bf22cd4d8026",
   "metadata": {},
   "outputs": [
    {
     "data": {
      "text/html": [
       "<div>\n",
       "<style scoped>\n",
       "    .dataframe tbody tr th:only-of-type {\n",
       "        vertical-align: middle;\n",
       "    }\n",
       "\n",
       "    .dataframe tbody tr th {\n",
       "        vertical-align: top;\n",
       "    }\n",
       "\n",
       "    .dataframe thead th {\n",
       "        text-align: right;\n",
       "    }\n",
       "</style>\n",
       "<table border=\"1\" class=\"dataframe\">\n",
       "  <thead>\n",
       "    <tr style=\"text-align: right;\">\n",
       "      <th></th>\n",
       "      <th>gender</th>\n",
       "      <th>race/ethnicity</th>\n",
       "      <th>parental level of education</th>\n",
       "      <th>lunch</th>\n",
       "      <th>test preparation course</th>\n",
       "      <th>math score</th>\n",
       "      <th>reading score</th>\n",
       "      <th>writing score</th>\n",
       "      <th>avg of score</th>\n",
       "      <th>performance</th>\n",
       "    </tr>\n",
       "  </thead>\n",
       "  <tbody>\n",
       "    <tr>\n",
       "      <th>358</th>\n",
       "      <td>male</td>\n",
       "      <td>group D</td>\n",
       "      <td>some college</td>\n",
       "      <td>free/reduced</td>\n",
       "      <td>none</td>\n",
       "      <td>59</td>\n",
       "      <td>62</td>\n",
       "      <td>61</td>\n",
       "      <td>60.666667</td>\n",
       "      <td>acceptable</td>\n",
       "    </tr>\n",
       "    <tr>\n",
       "      <th>935</th>\n",
       "      <td>male</td>\n",
       "      <td>group D</td>\n",
       "      <td>some college</td>\n",
       "      <td>free/reduced</td>\n",
       "      <td>none</td>\n",
       "      <td>70</td>\n",
       "      <td>63</td>\n",
       "      <td>58</td>\n",
       "      <td>63.666667</td>\n",
       "      <td>acceptable</td>\n",
       "    </tr>\n",
       "    <tr>\n",
       "      <th>496</th>\n",
       "      <td>female</td>\n",
       "      <td>group C</td>\n",
       "      <td>some college</td>\n",
       "      <td>standard</td>\n",
       "      <td>none</td>\n",
       "      <td>54</td>\n",
       "      <td>48</td>\n",
       "      <td>52</td>\n",
       "      <td>51.333333</td>\n",
       "      <td>acceptable</td>\n",
       "    </tr>\n",
       "    <tr>\n",
       "      <th>601</th>\n",
       "      <td>female</td>\n",
       "      <td>group C</td>\n",
       "      <td>high school</td>\n",
       "      <td>standard</td>\n",
       "      <td>none</td>\n",
       "      <td>29</td>\n",
       "      <td>29</td>\n",
       "      <td>30</td>\n",
       "      <td>29.333333</td>\n",
       "      <td>non acceptable</td>\n",
       "    </tr>\n",
       "    <tr>\n",
       "      <th>908</th>\n",
       "      <td>female</td>\n",
       "      <td>group C</td>\n",
       "      <td>bachelor's degree</td>\n",
       "      <td>free/reduced</td>\n",
       "      <td>none</td>\n",
       "      <td>67</td>\n",
       "      <td>75</td>\n",
       "      <td>72</td>\n",
       "      <td>71.333333</td>\n",
       "      <td>acceptable</td>\n",
       "    </tr>\n",
       "    <tr>\n",
       "      <th>774</th>\n",
       "      <td>male</td>\n",
       "      <td>group B</td>\n",
       "      <td>some college</td>\n",
       "      <td>standard</td>\n",
       "      <td>none</td>\n",
       "      <td>66</td>\n",
       "      <td>65</td>\n",
       "      <td>60</td>\n",
       "      <td>63.666667</td>\n",
       "      <td>acceptable</td>\n",
       "    </tr>\n",
       "    <tr>\n",
       "      <th>9</th>\n",
       "      <td>female</td>\n",
       "      <td>group B</td>\n",
       "      <td>high school</td>\n",
       "      <td>free/reduced</td>\n",
       "      <td>none</td>\n",
       "      <td>38</td>\n",
       "      <td>60</td>\n",
       "      <td>50</td>\n",
       "      <td>49.333333</td>\n",
       "      <td>non acceptable</td>\n",
       "    </tr>\n",
       "    <tr>\n",
       "      <th>830</th>\n",
       "      <td>female</td>\n",
       "      <td>group A</td>\n",
       "      <td>some college</td>\n",
       "      <td>free/reduced</td>\n",
       "      <td>none</td>\n",
       "      <td>61</td>\n",
       "      <td>60</td>\n",
       "      <td>57</td>\n",
       "      <td>59.333333</td>\n",
       "      <td>acceptable</td>\n",
       "    </tr>\n",
       "    <tr>\n",
       "      <th>3</th>\n",
       "      <td>male</td>\n",
       "      <td>group A</td>\n",
       "      <td>associate's degree</td>\n",
       "      <td>free/reduced</td>\n",
       "      <td>none</td>\n",
       "      <td>47</td>\n",
       "      <td>57</td>\n",
       "      <td>44</td>\n",
       "      <td>49.333333</td>\n",
       "      <td>non acceptable</td>\n",
       "    </tr>\n",
       "    <tr>\n",
       "      <th>269</th>\n",
       "      <td>female</td>\n",
       "      <td>group E</td>\n",
       "      <td>some college</td>\n",
       "      <td>free/reduced</td>\n",
       "      <td>none</td>\n",
       "      <td>71</td>\n",
       "      <td>76</td>\n",
       "      <td>70</td>\n",
       "      <td>72.333333</td>\n",
       "      <td>acceptable</td>\n",
       "    </tr>\n",
       "    <tr>\n",
       "      <th>42</th>\n",
       "      <td>female</td>\n",
       "      <td>group B</td>\n",
       "      <td>associate's degree</td>\n",
       "      <td>standard</td>\n",
       "      <td>none</td>\n",
       "      <td>53</td>\n",
       "      <td>58</td>\n",
       "      <td>65</td>\n",
       "      <td>58.666667</td>\n",
       "      <td>acceptable</td>\n",
       "    </tr>\n",
       "    <tr>\n",
       "      <th>299</th>\n",
       "      <td>male</td>\n",
       "      <td>group D</td>\n",
       "      <td>associate's degree</td>\n",
       "      <td>free/reduced</td>\n",
       "      <td>none</td>\n",
       "      <td>90</td>\n",
       "      <td>87</td>\n",
       "      <td>75</td>\n",
       "      <td>84.000000</td>\n",
       "      <td>acceptable</td>\n",
       "    </tr>\n",
       "    <tr>\n",
       "      <th>821</th>\n",
       "      <td>female</td>\n",
       "      <td>group D</td>\n",
       "      <td>bachelor's degree</td>\n",
       "      <td>free/reduced</td>\n",
       "      <td>none</td>\n",
       "      <td>78</td>\n",
       "      <td>90</td>\n",
       "      <td>93</td>\n",
       "      <td>87.000000</td>\n",
       "      <td>acceptable</td>\n",
       "    </tr>\n",
       "    <tr>\n",
       "      <th>371</th>\n",
       "      <td>female</td>\n",
       "      <td>group C</td>\n",
       "      <td>some college</td>\n",
       "      <td>free/reduced</td>\n",
       "      <td>completed</td>\n",
       "      <td>45</td>\n",
       "      <td>73</td>\n",
       "      <td>70</td>\n",
       "      <td>62.666667</td>\n",
       "      <td>acceptable</td>\n",
       "    </tr>\n",
       "    <tr>\n",
       "      <th>415</th>\n",
       "      <td>male</td>\n",
       "      <td>group E</td>\n",
       "      <td>high school</td>\n",
       "      <td>standard</td>\n",
       "      <td>none</td>\n",
       "      <td>84</td>\n",
       "      <td>73</td>\n",
       "      <td>69</td>\n",
       "      <td>75.333333</td>\n",
       "      <td>acceptable</td>\n",
       "    </tr>\n",
       "    <tr>\n",
       "      <th>790</th>\n",
       "      <td>female</td>\n",
       "      <td>group B</td>\n",
       "      <td>high school</td>\n",
       "      <td>standard</td>\n",
       "      <td>none</td>\n",
       "      <td>48</td>\n",
       "      <td>62</td>\n",
       "      <td>60</td>\n",
       "      <td>56.666667</td>\n",
       "      <td>acceptable</td>\n",
       "    </tr>\n",
       "    <tr>\n",
       "      <th>967</th>\n",
       "      <td>male</td>\n",
       "      <td>group C</td>\n",
       "      <td>some college</td>\n",
       "      <td>standard</td>\n",
       "      <td>none</td>\n",
       "      <td>63</td>\n",
       "      <td>63</td>\n",
       "      <td>60</td>\n",
       "      <td>62.000000</td>\n",
       "      <td>acceptable</td>\n",
       "    </tr>\n",
       "    <tr>\n",
       "      <th>671</th>\n",
       "      <td>male</td>\n",
       "      <td>group D</td>\n",
       "      <td>associate's degree</td>\n",
       "      <td>free/reduced</td>\n",
       "      <td>none</td>\n",
       "      <td>52</td>\n",
       "      <td>57</td>\n",
       "      <td>50</td>\n",
       "      <td>53.000000</td>\n",
       "      <td>acceptable</td>\n",
       "    </tr>\n",
       "    <tr>\n",
       "      <th>384</th>\n",
       "      <td>female</td>\n",
       "      <td>group A</td>\n",
       "      <td>some high school</td>\n",
       "      <td>free/reduced</td>\n",
       "      <td>none</td>\n",
       "      <td>38</td>\n",
       "      <td>43</td>\n",
       "      <td>43</td>\n",
       "      <td>41.333333</td>\n",
       "      <td>non acceptable</td>\n",
       "    </tr>\n",
       "    <tr>\n",
       "      <th>659</th>\n",
       "      <td>male</td>\n",
       "      <td>group D</td>\n",
       "      <td>associate's degree</td>\n",
       "      <td>standard</td>\n",
       "      <td>none</td>\n",
       "      <td>90</td>\n",
       "      <td>87</td>\n",
       "      <td>85</td>\n",
       "      <td>87.333333</td>\n",
       "      <td>acceptable</td>\n",
       "    </tr>\n",
       "    <tr>\n",
       "      <th>52</th>\n",
       "      <td>male</td>\n",
       "      <td>group C</td>\n",
       "      <td>some college</td>\n",
       "      <td>standard</td>\n",
       "      <td>none</td>\n",
       "      <td>53</td>\n",
       "      <td>44</td>\n",
       "      <td>42</td>\n",
       "      <td>46.333333</td>\n",
       "      <td>non acceptable</td>\n",
       "    </tr>\n",
       "    <tr>\n",
       "      <th>401</th>\n",
       "      <td>male</td>\n",
       "      <td>group A</td>\n",
       "      <td>some college</td>\n",
       "      <td>standard</td>\n",
       "      <td>none</td>\n",
       "      <td>53</td>\n",
       "      <td>43</td>\n",
       "      <td>43</td>\n",
       "      <td>46.333333</td>\n",
       "      <td>non acceptable</td>\n",
       "    </tr>\n",
       "    <tr>\n",
       "      <th>990</th>\n",
       "      <td>male</td>\n",
       "      <td>group E</td>\n",
       "      <td>high school</td>\n",
       "      <td>free/reduced</td>\n",
       "      <td>completed</td>\n",
       "      <td>86</td>\n",
       "      <td>81</td>\n",
       "      <td>75</td>\n",
       "      <td>80.666667</td>\n",
       "      <td>acceptable</td>\n",
       "    </tr>\n",
       "    <tr>\n",
       "      <th>259</th>\n",
       "      <td>female</td>\n",
       "      <td>group C</td>\n",
       "      <td>master's degree</td>\n",
       "      <td>free/reduced</td>\n",
       "      <td>completed</td>\n",
       "      <td>65</td>\n",
       "      <td>81</td>\n",
       "      <td>81</td>\n",
       "      <td>75.666667</td>\n",
       "      <td>acceptable</td>\n",
       "    </tr>\n",
       "    <tr>\n",
       "      <th>880</th>\n",
       "      <td>male</td>\n",
       "      <td>group C</td>\n",
       "      <td>bachelor's degree</td>\n",
       "      <td>standard</td>\n",
       "      <td>completed</td>\n",
       "      <td>63</td>\n",
       "      <td>64</td>\n",
       "      <td>66</td>\n",
       "      <td>64.333333</td>\n",
       "      <td>acceptable</td>\n",
       "    </tr>\n",
       "    <tr>\n",
       "      <th>63</th>\n",
       "      <td>female</td>\n",
       "      <td>group C</td>\n",
       "      <td>associate's degree</td>\n",
       "      <td>standard</td>\n",
       "      <td>none</td>\n",
       "      <td>69</td>\n",
       "      <td>80</td>\n",
       "      <td>71</td>\n",
       "      <td>73.333333</td>\n",
       "      <td>acceptable</td>\n",
       "    </tr>\n",
       "    <tr>\n",
       "      <th>583</th>\n",
       "      <td>female</td>\n",
       "      <td>group D</td>\n",
       "      <td>associate's degree</td>\n",
       "      <td>standard</td>\n",
       "      <td>completed</td>\n",
       "      <td>73</td>\n",
       "      <td>75</td>\n",
       "      <td>80</td>\n",
       "      <td>76.000000</td>\n",
       "      <td>acceptable</td>\n",
       "    </tr>\n",
       "    <tr>\n",
       "      <th>2</th>\n",
       "      <td>female</td>\n",
       "      <td>group B</td>\n",
       "      <td>master's degree</td>\n",
       "      <td>standard</td>\n",
       "      <td>none</td>\n",
       "      <td>90</td>\n",
       "      <td>95</td>\n",
       "      <td>93</td>\n",
       "      <td>92.666667</td>\n",
       "      <td>acceptable</td>\n",
       "    </tr>\n",
       "    <tr>\n",
       "      <th>392</th>\n",
       "      <td>male</td>\n",
       "      <td>group E</td>\n",
       "      <td>some college</td>\n",
       "      <td>standard</td>\n",
       "      <td>none</td>\n",
       "      <td>76</td>\n",
       "      <td>67</td>\n",
       "      <td>67</td>\n",
       "      <td>70.000000</td>\n",
       "      <td>acceptable</td>\n",
       "    </tr>\n",
       "    <tr>\n",
       "      <th>697</th>\n",
       "      <td>female</td>\n",
       "      <td>group A</td>\n",
       "      <td>bachelor's degree</td>\n",
       "      <td>standard</td>\n",
       "      <td>none</td>\n",
       "      <td>59</td>\n",
       "      <td>72</td>\n",
       "      <td>70</td>\n",
       "      <td>67.000000</td>\n",
       "      <td>acceptable</td>\n",
       "    </tr>\n",
       "  </tbody>\n",
       "</table>\n",
       "</div>"
      ],
      "text/plain": [
       "     gender race/ethnicity parental level of education         lunch  \\\n",
       "358    male        group D                some college  free/reduced   \n",
       "935    male        group D                some college  free/reduced   \n",
       "496  female        group C                some college      standard   \n",
       "601  female        group C                 high school      standard   \n",
       "908  female        group C           bachelor's degree  free/reduced   \n",
       "774    male        group B                some college      standard   \n",
       "9    female        group B                 high school  free/reduced   \n",
       "830  female        group A                some college  free/reduced   \n",
       "3      male        group A          associate's degree  free/reduced   \n",
       "269  female        group E                some college  free/reduced   \n",
       "42   female        group B          associate's degree      standard   \n",
       "299    male        group D          associate's degree  free/reduced   \n",
       "821  female        group D           bachelor's degree  free/reduced   \n",
       "371  female        group C                some college  free/reduced   \n",
       "415    male        group E                 high school      standard   \n",
       "790  female        group B                 high school      standard   \n",
       "967    male        group C                some college      standard   \n",
       "671    male        group D          associate's degree  free/reduced   \n",
       "384  female        group A            some high school  free/reduced   \n",
       "659    male        group D          associate's degree      standard   \n",
       "52     male        group C                some college      standard   \n",
       "401    male        group A                some college      standard   \n",
       "990    male        group E                 high school  free/reduced   \n",
       "259  female        group C             master's degree  free/reduced   \n",
       "880    male        group C           bachelor's degree      standard   \n",
       "63   female        group C          associate's degree      standard   \n",
       "583  female        group D          associate's degree      standard   \n",
       "2    female        group B             master's degree      standard   \n",
       "392    male        group E                some college      standard   \n",
       "697  female        group A           bachelor's degree      standard   \n",
       "\n",
       "    test preparation course  math score  reading score  writing score  \\\n",
       "358                    none          59             62             61   \n",
       "935                    none          70             63             58   \n",
       "496                    none          54             48             52   \n",
       "601                    none          29             29             30   \n",
       "908                    none          67             75             72   \n",
       "774                    none          66             65             60   \n",
       "9                      none          38             60             50   \n",
       "830                    none          61             60             57   \n",
       "3                      none          47             57             44   \n",
       "269                    none          71             76             70   \n",
       "42                     none          53             58             65   \n",
       "299                    none          90             87             75   \n",
       "821                    none          78             90             93   \n",
       "371               completed          45             73             70   \n",
       "415                    none          84             73             69   \n",
       "790                    none          48             62             60   \n",
       "967                    none          63             63             60   \n",
       "671                    none          52             57             50   \n",
       "384                    none          38             43             43   \n",
       "659                    none          90             87             85   \n",
       "52                     none          53             44             42   \n",
       "401                    none          53             43             43   \n",
       "990               completed          86             81             75   \n",
       "259               completed          65             81             81   \n",
       "880               completed          63             64             66   \n",
       "63                     none          69             80             71   \n",
       "583               completed          73             75             80   \n",
       "2                      none          90             95             93   \n",
       "392                    none          76             67             67   \n",
       "697                    none          59             72             70   \n",
       "\n",
       "     avg of score     performance  \n",
       "358     60.666667      acceptable  \n",
       "935     63.666667      acceptable  \n",
       "496     51.333333      acceptable  \n",
       "601     29.333333  non acceptable  \n",
       "908     71.333333      acceptable  \n",
       "774     63.666667      acceptable  \n",
       "9       49.333333  non acceptable  \n",
       "830     59.333333      acceptable  \n",
       "3       49.333333  non acceptable  \n",
       "269     72.333333      acceptable  \n",
       "42      58.666667      acceptable  \n",
       "299     84.000000      acceptable  \n",
       "821     87.000000      acceptable  \n",
       "371     62.666667      acceptable  \n",
       "415     75.333333      acceptable  \n",
       "790     56.666667      acceptable  \n",
       "967     62.000000      acceptable  \n",
       "671     53.000000      acceptable  \n",
       "384     41.333333  non acceptable  \n",
       "659     87.333333      acceptable  \n",
       "52      46.333333  non acceptable  \n",
       "401     46.333333  non acceptable  \n",
       "990     80.666667      acceptable  \n",
       "259     75.666667      acceptable  \n",
       "880     64.333333      acceptable  \n",
       "63      73.333333      acceptable  \n",
       "583     76.000000      acceptable  \n",
       "2       92.666667      acceptable  \n",
       "392     70.000000      acceptable  \n",
       "697     67.000000      acceptable  "
      ]
     },
     "execution_count": 36,
     "metadata": {},
     "output_type": "execute_result"
    }
   ],
   "source": [
    "df=data.sample(n=30)\n",
    "df"
   ]
  },
  {
   "cell_type": "markdown",
   "id": "0ad06795-0344-4e64-a757-b51a7fcccfa0",
   "metadata": {},
   "source": [
    "##### sample mean ,median and Standard deviation of dataset"
   ]
  },
  {
   "cell_type": "code",
   "execution_count": 37,
   "id": "9dddf071-b031-44dd-8702-57d65da9e9b4",
   "metadata": {},
   "outputs": [
    {
     "data": {
      "text/plain": [
       "63.0"
      ]
     },
     "execution_count": 37,
     "metadata": {},
     "output_type": "execute_result"
    }
   ],
   "source": [
    "df['math score'].mean()"
   ]
  },
  {
   "cell_type": "code",
   "execution_count": 38,
   "id": "815eedc9-727f-41fc-ab19-4fa4dacc0e29",
   "metadata": {},
   "outputs": [
    {
     "data": {
      "text/plain": [
       "16.16509649917334"
      ]
     },
     "execution_count": 38,
     "metadata": {},
     "output_type": "execute_result"
    }
   ],
   "source": [
    "df['math score'].std()"
   ]
  },
  {
   "cell_type": "code",
   "execution_count": 39,
   "id": "02a68869-fb72-407d-9a95-68a5629e2c7c",
   "metadata": {},
   "outputs": [
    {
     "data": {
      "text/plain": [
       "63.733333333333334"
      ]
     },
     "execution_count": 39,
     "metadata": {},
     "output_type": "execute_result"
    }
   ],
   "source": [
    "df['writing score'].mean()"
   ]
  },
  {
   "cell_type": "code",
   "execution_count": 40,
   "id": "b58a7271-f56b-435b-b944-5bc9ae28a94e",
   "metadata": {},
   "outputs": [
    {
     "data": {
      "text/plain": [
       "15.276606712345453"
      ]
     },
     "execution_count": 40,
     "metadata": {},
     "output_type": "execute_result"
    }
   ],
   "source": [
    "df['writing score'].std()"
   ]
  },
  {
   "cell_type": "code",
   "execution_count": 41,
   "id": "2dfb9c20-64b0-4cca-a2f2-1fe98cf37c44",
   "metadata": {},
   "outputs": [
    {
     "data": {
      "text/plain": [
       "66.33333333333333"
      ]
     },
     "execution_count": 41,
     "metadata": {},
     "output_type": "execute_result"
    }
   ],
   "source": [
    "df['reading score'].mean()"
   ]
  },
  {
   "cell_type": "code",
   "execution_count": 42,
   "id": "55a2cdc4-bcaa-4f8f-8fe9-a836ebfa0ea2",
   "metadata": {},
   "outputs": [
    {
     "data": {
      "text/plain": [
       "15.45479131896137"
      ]
     },
     "execution_count": 42,
     "metadata": {},
     "output_type": "execute_result"
    }
   ],
   "source": [
    "df['reading score'].std()"
   ]
  },
  {
   "cell_type": "markdown",
   "id": "8b0ab08b-e143-4b64-9e1a-8b53b0dd7854",
   "metadata": {},
   "source": [
    "# T test"
   ]
  },
  {
   "cell_type": "markdown",
   "id": "a8922c8d-1985-4271-8a04-b8187124a552",
   "metadata": {},
   "source": [
    " A t-test for independent variables, also known as an independent samples t-test or two-sample t-test, is a statistical test used to determine if there is a significant difference between the means of two independent groups. It's commonly used in hypothesis testing when comparing the means of two different populations or groups."
   ]
  },
  {
   "cell_type": "markdown",
   "id": "d8b54a91-9e80-43f8-88bc-531fa79a3dab",
   "metadata": {},
   "source": [
    "###  •We check association between math score and gender by using T-test"
   ]
  },
  {
   "cell_type": "markdown",
   "id": "f0cc78f7-1625-4b7a-bebe-205f307ca9c4",
   "metadata": {},
   "source": [
    "##### Ho: math score independ on gender.\n",
    "##### Ha: math score depend on gender.\r\n"
   ]
  },
  {
   "cell_type": "code",
   "execution_count": 43,
   "id": "bcf1c976-9dc8-4511-a8a2-69a43e4936df",
   "metadata": {
    "scrolled": true
   },
   "outputs": [
    {
     "name": "stdout",
     "output_type": "stream",
     "text": [
      "T-statistic: 1.6293174888482902\n",
      "P-value: 0.11444645534614974\n",
      "Accept the null hypothesis. math score independ on gender\n"
     ]
    }
   ],
   "source": [
    "from scipy.stats import ttest_ind\n",
    "group1=df[df['gender']=='male']\n",
    "group2=df[df['gender']=='female']\n",
    "\n",
    "# Perform independent two-sample t-test\n",
    "t_statistic, p_value = ttest_ind(group1['math score'], group2['math score'])\n",
    "\n",
    "# Print results\n",
    "print(\"T-statistic:\", t_statistic)\n",
    "print(\"P-value:\", p_value)\n",
    "\n",
    "\n",
    "# Check for significance\n",
    "alpha = 0.05\n",
    "if p_value > alpha:\n",
    "     print(\"Accept the null hypothesis. math score independ on gender\")\n",
    "else:\n",
    "    print (\"Rejact null hypothesis. Tmath score depend on gender\")"
   ]
  },
  {
   "cell_type": "markdown",
   "id": "e74a32ee-a830-4ff8-98ab-550328baf1e4",
   "metadata": {},
   "source": [
    "# Conclusion"
   ]
  },
  {
   "cell_type": "markdown",
   "id": "07398e43-75f8-4349-8163-433b897adea7",
   "metadata": {},
   "source": [
    "##### P-value is greater than aplha than null hypothesis is accepted "
   ]
  },
  {
   "cell_type": "markdown",
   "id": "b2a83419-dc1d-4b9c-9b94-704c33466723",
   "metadata": {},
   "source": [
    "### •We check association between  reading score and gender by using T-test"
   ]
  },
  {
   "cell_type": "markdown",
   "id": "47b1ac85-8589-4c02-8ade-ae5a1d277082",
   "metadata": {},
   "source": [
    "##### Ho: reading score independ on gender.\n",
    "##### Ha: reading score depend on gender."
   ]
  },
  {
   "cell_type": "code",
   "execution_count": 58,
   "id": "9c898f5b-d673-4705-9556-cfd34e579ddd",
   "metadata": {},
   "outputs": [
    {
     "name": "stdout",
     "output_type": "stream",
     "text": [
      "T-statistic: -0.3653953918448264\n",
      "P-value: 0.7175621449695465\n",
      "Accept the null hypothesis. There is  reading score independ on gender.\n"
     ]
    }
   ],
   "source": [
    "group1=df[df['gender']=='male']\n",
    "group2=df[df['gender']=='female']\n",
    "\n",
    "# Perform independent two-sample t-test\n",
    "t_statistic, p_value = ttest_ind(group1['reading score'], group2['reading score'])\n",
    "\n",
    "# Print results\n",
    "print(\"T-statistic:\", t_statistic)\n",
    "print(\"P-value:\", p_value)\n",
    "\n",
    "\n",
    "# Check for significance\n",
    "alpha = 0.05\n",
    "if p_value > alpha:\n",
    "     print(\"Accept the null hypothesis. There is  reading score independ on gender.\")\n",
    "else:\n",
    "    print(\"Reject the null hypothesis. There is a reading score depend on gender.\")"
   ]
  },
  {
   "cell_type": "markdown",
   "id": "be4f8bbe-248e-49e0-bac2-444fd543b3e7",
   "metadata": {},
   "source": [
    "# Conclusion"
   ]
  },
  {
   "cell_type": "markdown",
   "id": "e2ee157d-dbf3-4d28-bef0-fc57ecbd6c34",
   "metadata": {},
   "source": [
    "##### p-value is greater than alpha then null hypothesis is accepted.\n"
   ]
  },
  {
   "cell_type": "markdown",
   "id": "eb76823f-87bb-4a50-b8e7-b922dd031671",
   "metadata": {},
   "source": [
    "### •We check association between writing score and gender by using T-test"
   ]
  },
  {
   "cell_type": "markdown",
   "id": "d06536dd-8b08-4802-b7a6-709ad3a923b7",
   "metadata": {},
   "source": [
    "##### Ho: wrting score independ on gender.\n",
    "##### Ha: writing score depend on gender."
   ]
  },
  {
   "cell_type": "code",
   "execution_count": 56,
   "id": "923a4bb5-08c4-4a1d-ba37-62a51c167711",
   "metadata": {},
   "outputs": [
    {
     "name": "stdout",
     "output_type": "stream",
     "text": [
      "T-statistic: -0.8895321765748011\n",
      "P-value: 0.38129626166001207\n",
      "Accept the null hypothesis. There is a writing score independ on gender.\n"
     ]
    }
   ],
   "source": [
    "group1=df[df['gender']=='male']\n",
    "group2=df[df['gender']=='female']\n",
    "\n",
    "# Perform independent two-sample t-test\n",
    "t_statistic, p_value = ttest_ind(group1['writing score'], group2['writing score'])\n",
    "\n",
    "# Print results\n",
    "print(\"T-statistic:\", t_statistic)\n",
    "print(\"P-value:\", p_value)\n",
    "\n",
    "\n",
    "# Check for significance\n",
    "alpha = 0.05\n",
    "if p_value > alpha:\n",
    "    print(\"Accept the null hypothesis. There is a writing score independ on gender.\")\n",
    "else:\n",
    "   print(\"Reject the null hypothesis. There is a writing score depend on gender.\")"
   ]
  },
  {
   "cell_type": "markdown",
   "id": "4a789914-7d2e-4c03-98bc-f32fa6c40005",
   "metadata": {},
   "source": [
    "# Conclusion"
   ]
  },
  {
   "cell_type": "markdown",
   "id": "a0f8cf72-7d8b-444c-a53e-b57915fe175b",
   "metadata": {},
   "source": [
    "#####  p-value greater than aplha then null hypothesis is accepted"
   ]
  },
  {
   "cell_type": "code",
   "execution_count": 46,
   "id": "06869cc7-bed1-4f6f-b40f-ae42a599ed91",
   "metadata": {},
   "outputs": [
    {
     "data": {
      "text/html": [
       "<div>\n",
       "<style scoped>\n",
       "    .dataframe tbody tr th:only-of-type {\n",
       "        vertical-align: middle;\n",
       "    }\n",
       "\n",
       "    .dataframe tbody tr th {\n",
       "        vertical-align: top;\n",
       "    }\n",
       "\n",
       "    .dataframe thead th {\n",
       "        text-align: right;\n",
       "    }\n",
       "</style>\n",
       "<table border=\"1\" class=\"dataframe\">\n",
       "  <thead>\n",
       "    <tr style=\"text-align: right;\">\n",
       "      <th></th>\n",
       "      <th>gender</th>\n",
       "      <th>race/ethnicity</th>\n",
       "      <th>parental level of education</th>\n",
       "      <th>lunch</th>\n",
       "      <th>test preparation course</th>\n",
       "      <th>math score</th>\n",
       "      <th>reading score</th>\n",
       "      <th>writing score</th>\n",
       "      <th>avg of score</th>\n",
       "      <th>performance</th>\n",
       "    </tr>\n",
       "  </thead>\n",
       "  <tbody>\n",
       "    <tr>\n",
       "      <th>615</th>\n",
       "      <td>female</td>\n",
       "      <td>group C</td>\n",
       "      <td>high school</td>\n",
       "      <td>standard</td>\n",
       "      <td>none</td>\n",
       "      <td>60</td>\n",
       "      <td>68</td>\n",
       "      <td>72</td>\n",
       "      <td>66.666667</td>\n",
       "      <td>acceptable</td>\n",
       "    </tr>\n",
       "    <tr>\n",
       "      <th>194</th>\n",
       "      <td>female</td>\n",
       "      <td>group C</td>\n",
       "      <td>master's degree</td>\n",
       "      <td>standard</td>\n",
       "      <td>completed</td>\n",
       "      <td>69</td>\n",
       "      <td>84</td>\n",
       "      <td>85</td>\n",
       "      <td>79.333333</td>\n",
       "      <td>acceptable</td>\n",
       "    </tr>\n",
       "    <tr>\n",
       "      <th>681</th>\n",
       "      <td>male</td>\n",
       "      <td>group B</td>\n",
       "      <td>high school</td>\n",
       "      <td>standard</td>\n",
       "      <td>none</td>\n",
       "      <td>60</td>\n",
       "      <td>68</td>\n",
       "      <td>60</td>\n",
       "      <td>62.666667</td>\n",
       "      <td>acceptable</td>\n",
       "    </tr>\n",
       "    <tr>\n",
       "      <th>326</th>\n",
       "      <td>male</td>\n",
       "      <td>group C</td>\n",
       "      <td>some college</td>\n",
       "      <td>standard</td>\n",
       "      <td>none</td>\n",
       "      <td>61</td>\n",
       "      <td>61</td>\n",
       "      <td>62</td>\n",
       "      <td>61.333333</td>\n",
       "      <td>acceptable</td>\n",
       "    </tr>\n",
       "    <tr>\n",
       "      <th>561</th>\n",
       "      <td>female</td>\n",
       "      <td>group C</td>\n",
       "      <td>some college</td>\n",
       "      <td>standard</td>\n",
       "      <td>none</td>\n",
       "      <td>63</td>\n",
       "      <td>74</td>\n",
       "      <td>74</td>\n",
       "      <td>70.333333</td>\n",
       "      <td>acceptable</td>\n",
       "    </tr>\n",
       "    <tr>\n",
       "      <th>686</th>\n",
       "      <td>male</td>\n",
       "      <td>group E</td>\n",
       "      <td>some college</td>\n",
       "      <td>standard</td>\n",
       "      <td>completed</td>\n",
       "      <td>85</td>\n",
       "      <td>75</td>\n",
       "      <td>68</td>\n",
       "      <td>76.000000</td>\n",
       "      <td>acceptable</td>\n",
       "    </tr>\n",
       "    <tr>\n",
       "      <th>805</th>\n",
       "      <td>male</td>\n",
       "      <td>group A</td>\n",
       "      <td>some college</td>\n",
       "      <td>free/reduced</td>\n",
       "      <td>none</td>\n",
       "      <td>75</td>\n",
       "      <td>81</td>\n",
       "      <td>74</td>\n",
       "      <td>76.666667</td>\n",
       "      <td>acceptable</td>\n",
       "    </tr>\n",
       "    <tr>\n",
       "      <th>538</th>\n",
       "      <td>male</td>\n",
       "      <td>group E</td>\n",
       "      <td>bachelor's degree</td>\n",
       "      <td>standard</td>\n",
       "      <td>completed</td>\n",
       "      <td>85</td>\n",
       "      <td>66</td>\n",
       "      <td>71</td>\n",
       "      <td>74.000000</td>\n",
       "      <td>acceptable</td>\n",
       "    </tr>\n",
       "    <tr>\n",
       "      <th>884</th>\n",
       "      <td>female</td>\n",
       "      <td>group E</td>\n",
       "      <td>associate's degree</td>\n",
       "      <td>standard</td>\n",
       "      <td>none</td>\n",
       "      <td>51</td>\n",
       "      <td>51</td>\n",
       "      <td>54</td>\n",
       "      <td>52.000000</td>\n",
       "      <td>acceptable</td>\n",
       "    </tr>\n",
       "    <tr>\n",
       "      <th>256</th>\n",
       "      <td>female</td>\n",
       "      <td>group C</td>\n",
       "      <td>associate's degree</td>\n",
       "      <td>free/reduced</td>\n",
       "      <td>none</td>\n",
       "      <td>64</td>\n",
       "      <td>73</td>\n",
       "      <td>68</td>\n",
       "      <td>68.333333</td>\n",
       "      <td>acceptable</td>\n",
       "    </tr>\n",
       "    <tr>\n",
       "      <th>164</th>\n",
       "      <td>female</td>\n",
       "      <td>group E</td>\n",
       "      <td>master's degree</td>\n",
       "      <td>standard</td>\n",
       "      <td>none</td>\n",
       "      <td>81</td>\n",
       "      <td>92</td>\n",
       "      <td>91</td>\n",
       "      <td>88.000000</td>\n",
       "      <td>acceptable</td>\n",
       "    </tr>\n",
       "    <tr>\n",
       "      <th>861</th>\n",
       "      <td>female</td>\n",
       "      <td>group E</td>\n",
       "      <td>master's degree</td>\n",
       "      <td>free/reduced</td>\n",
       "      <td>none</td>\n",
       "      <td>81</td>\n",
       "      <td>86</td>\n",
       "      <td>87</td>\n",
       "      <td>84.666667</td>\n",
       "      <td>acceptable</td>\n",
       "    </tr>\n",
       "    <tr>\n",
       "      <th>411</th>\n",
       "      <td>male</td>\n",
       "      <td>group E</td>\n",
       "      <td>some college</td>\n",
       "      <td>standard</td>\n",
       "      <td>completed</td>\n",
       "      <td>84</td>\n",
       "      <td>83</td>\n",
       "      <td>78</td>\n",
       "      <td>81.666667</td>\n",
       "      <td>acceptable</td>\n",
       "    </tr>\n",
       "    <tr>\n",
       "      <th>19</th>\n",
       "      <td>female</td>\n",
       "      <td>group C</td>\n",
       "      <td>associate's degree</td>\n",
       "      <td>free/reduced</td>\n",
       "      <td>none</td>\n",
       "      <td>54</td>\n",
       "      <td>58</td>\n",
       "      <td>61</td>\n",
       "      <td>57.666667</td>\n",
       "      <td>acceptable</td>\n",
       "    </tr>\n",
       "    <tr>\n",
       "      <th>876</th>\n",
       "      <td>male</td>\n",
       "      <td>group D</td>\n",
       "      <td>some college</td>\n",
       "      <td>standard</td>\n",
       "      <td>none</td>\n",
       "      <td>81</td>\n",
       "      <td>82</td>\n",
       "      <td>84</td>\n",
       "      <td>82.333333</td>\n",
       "      <td>acceptable</td>\n",
       "    </tr>\n",
       "    <tr>\n",
       "      <th>477</th>\n",
       "      <td>male</td>\n",
       "      <td>group D</td>\n",
       "      <td>associate's degree</td>\n",
       "      <td>standard</td>\n",
       "      <td>none</td>\n",
       "      <td>80</td>\n",
       "      <td>68</td>\n",
       "      <td>72</td>\n",
       "      <td>73.333333</td>\n",
       "      <td>acceptable</td>\n",
       "    </tr>\n",
       "    <tr>\n",
       "      <th>470</th>\n",
       "      <td>female</td>\n",
       "      <td>group C</td>\n",
       "      <td>associate's degree</td>\n",
       "      <td>standard</td>\n",
       "      <td>completed</td>\n",
       "      <td>83</td>\n",
       "      <td>85</td>\n",
       "      <td>90</td>\n",
       "      <td>86.000000</td>\n",
       "      <td>acceptable</td>\n",
       "    </tr>\n",
       "    <tr>\n",
       "      <th>166</th>\n",
       "      <td>male</td>\n",
       "      <td>group C</td>\n",
       "      <td>high school</td>\n",
       "      <td>free/reduced</td>\n",
       "      <td>completed</td>\n",
       "      <td>53</td>\n",
       "      <td>51</td>\n",
       "      <td>51</td>\n",
       "      <td>51.666667</td>\n",
       "      <td>acceptable</td>\n",
       "    </tr>\n",
       "    <tr>\n",
       "      <th>558</th>\n",
       "      <td>female</td>\n",
       "      <td>group B</td>\n",
       "      <td>associate's degree</td>\n",
       "      <td>free/reduced</td>\n",
       "      <td>none</td>\n",
       "      <td>53</td>\n",
       "      <td>70</td>\n",
       "      <td>70</td>\n",
       "      <td>64.333333</td>\n",
       "      <td>acceptable</td>\n",
       "    </tr>\n",
       "    <tr>\n",
       "      <th>796</th>\n",
       "      <td>male</td>\n",
       "      <td>group D</td>\n",
       "      <td>high school</td>\n",
       "      <td>standard</td>\n",
       "      <td>none</td>\n",
       "      <td>70</td>\n",
       "      <td>70</td>\n",
       "      <td>70</td>\n",
       "      <td>70.000000</td>\n",
       "      <td>acceptable</td>\n",
       "    </tr>\n",
       "    <tr>\n",
       "      <th>24</th>\n",
       "      <td>male</td>\n",
       "      <td>group D</td>\n",
       "      <td>bachelor's degree</td>\n",
       "      <td>free/reduced</td>\n",
       "      <td>completed</td>\n",
       "      <td>74</td>\n",
       "      <td>71</td>\n",
       "      <td>80</td>\n",
       "      <td>75.000000</td>\n",
       "      <td>acceptable</td>\n",
       "    </tr>\n",
       "    <tr>\n",
       "      <th>165</th>\n",
       "      <td>female</td>\n",
       "      <td>group C</td>\n",
       "      <td>bachelor's degree</td>\n",
       "      <td>standard</td>\n",
       "      <td>completed</td>\n",
       "      <td>96</td>\n",
       "      <td>100</td>\n",
       "      <td>100</td>\n",
       "      <td>98.666667</td>\n",
       "      <td>acceptable</td>\n",
       "    </tr>\n",
       "    <tr>\n",
       "      <th>636</th>\n",
       "      <td>female</td>\n",
       "      <td>group B</td>\n",
       "      <td>high school</td>\n",
       "      <td>free/reduced</td>\n",
       "      <td>completed</td>\n",
       "      <td>67</td>\n",
       "      <td>80</td>\n",
       "      <td>81</td>\n",
       "      <td>76.000000</td>\n",
       "      <td>acceptable</td>\n",
       "    </tr>\n",
       "    <tr>\n",
       "      <th>517</th>\n",
       "      <td>female</td>\n",
       "      <td>group E</td>\n",
       "      <td>some college</td>\n",
       "      <td>standard</td>\n",
       "      <td>completed</td>\n",
       "      <td>66</td>\n",
       "      <td>74</td>\n",
       "      <td>73</td>\n",
       "      <td>71.000000</td>\n",
       "      <td>acceptable</td>\n",
       "    </tr>\n",
       "    <tr>\n",
       "      <th>868</th>\n",
       "      <td>male</td>\n",
       "      <td>group E</td>\n",
       "      <td>associate's degree</td>\n",
       "      <td>free/reduced</td>\n",
       "      <td>completed</td>\n",
       "      <td>78</td>\n",
       "      <td>74</td>\n",
       "      <td>72</td>\n",
       "      <td>74.666667</td>\n",
       "      <td>acceptable</td>\n",
       "    </tr>\n",
       "    <tr>\n",
       "      <th>409</th>\n",
       "      <td>male</td>\n",
       "      <td>group D</td>\n",
       "      <td>associate's degree</td>\n",
       "      <td>standard</td>\n",
       "      <td>completed</td>\n",
       "      <td>87</td>\n",
       "      <td>84</td>\n",
       "      <td>85</td>\n",
       "      <td>85.333333</td>\n",
       "      <td>acceptable</td>\n",
       "    </tr>\n",
       "    <tr>\n",
       "      <th>153</th>\n",
       "      <td>male</td>\n",
       "      <td>group D</td>\n",
       "      <td>bachelor's degree</td>\n",
       "      <td>standard</td>\n",
       "      <td>none</td>\n",
       "      <td>54</td>\n",
       "      <td>49</td>\n",
       "      <td>47</td>\n",
       "      <td>50.000000</td>\n",
       "      <td>acceptable</td>\n",
       "    </tr>\n",
       "    <tr>\n",
       "      <th>148</th>\n",
       "      <td>female</td>\n",
       "      <td>group D</td>\n",
       "      <td>bachelor's degree</td>\n",
       "      <td>standard</td>\n",
       "      <td>completed</td>\n",
       "      <td>68</td>\n",
       "      <td>75</td>\n",
       "      <td>81</td>\n",
       "      <td>74.666667</td>\n",
       "      <td>acceptable</td>\n",
       "    </tr>\n",
       "    <tr>\n",
       "      <th>652</th>\n",
       "      <td>female</td>\n",
       "      <td>group D</td>\n",
       "      <td>some college</td>\n",
       "      <td>standard</td>\n",
       "      <td>completed</td>\n",
       "      <td>85</td>\n",
       "      <td>86</td>\n",
       "      <td>98</td>\n",
       "      <td>89.666667</td>\n",
       "      <td>acceptable</td>\n",
       "    </tr>\n",
       "    <tr>\n",
       "      <th>314</th>\n",
       "      <td>female</td>\n",
       "      <td>group C</td>\n",
       "      <td>bachelor's degree</td>\n",
       "      <td>standard</td>\n",
       "      <td>completed</td>\n",
       "      <td>59</td>\n",
       "      <td>64</td>\n",
       "      <td>75</td>\n",
       "      <td>66.000000</td>\n",
       "      <td>acceptable</td>\n",
       "    </tr>\n",
       "    <tr>\n",
       "      <th>99</th>\n",
       "      <td>female</td>\n",
       "      <td>group D</td>\n",
       "      <td>bachelor's degree</td>\n",
       "      <td>standard</td>\n",
       "      <td>none</td>\n",
       "      <td>65</td>\n",
       "      <td>67</td>\n",
       "      <td>62</td>\n",
       "      <td>64.666667</td>\n",
       "      <td>acceptable</td>\n",
       "    </tr>\n",
       "    <tr>\n",
       "      <th>493</th>\n",
       "      <td>female</td>\n",
       "      <td>group C</td>\n",
       "      <td>bachelor's degree</td>\n",
       "      <td>standard</td>\n",
       "      <td>none</td>\n",
       "      <td>81</td>\n",
       "      <td>88</td>\n",
       "      <td>90</td>\n",
       "      <td>86.333333</td>\n",
       "      <td>acceptable</td>\n",
       "    </tr>\n",
       "    <tr>\n",
       "      <th>215</th>\n",
       "      <td>male</td>\n",
       "      <td>group B</td>\n",
       "      <td>some high school</td>\n",
       "      <td>standard</td>\n",
       "      <td>completed</td>\n",
       "      <td>84</td>\n",
       "      <td>83</td>\n",
       "      <td>75</td>\n",
       "      <td>80.666667</td>\n",
       "      <td>acceptable</td>\n",
       "    </tr>\n",
       "    <tr>\n",
       "      <th>160</th>\n",
       "      <td>male</td>\n",
       "      <td>group B</td>\n",
       "      <td>associate's degree</td>\n",
       "      <td>free/reduced</td>\n",
       "      <td>completed</td>\n",
       "      <td>82</td>\n",
       "      <td>78</td>\n",
       "      <td>74</td>\n",
       "      <td>78.000000</td>\n",
       "      <td>acceptable</td>\n",
       "    </tr>\n",
       "    <tr>\n",
       "      <th>606</th>\n",
       "      <td>female</td>\n",
       "      <td>group C</td>\n",
       "      <td>associate's degree</td>\n",
       "      <td>standard</td>\n",
       "      <td>none</td>\n",
       "      <td>85</td>\n",
       "      <td>84</td>\n",
       "      <td>82</td>\n",
       "      <td>83.666667</td>\n",
       "      <td>acceptable</td>\n",
       "    </tr>\n",
       "    <tr>\n",
       "      <th>790</th>\n",
       "      <td>female</td>\n",
       "      <td>group B</td>\n",
       "      <td>high school</td>\n",
       "      <td>standard</td>\n",
       "      <td>none</td>\n",
       "      <td>48</td>\n",
       "      <td>62</td>\n",
       "      <td>60</td>\n",
       "      <td>56.666667</td>\n",
       "      <td>acceptable</td>\n",
       "    </tr>\n",
       "    <tr>\n",
       "      <th>490</th>\n",
       "      <td>female</td>\n",
       "      <td>group A</td>\n",
       "      <td>associate's degree</td>\n",
       "      <td>free/reduced</td>\n",
       "      <td>none</td>\n",
       "      <td>65</td>\n",
       "      <td>85</td>\n",
       "      <td>76</td>\n",
       "      <td>75.333333</td>\n",
       "      <td>acceptable</td>\n",
       "    </tr>\n",
       "    <tr>\n",
       "      <th>907</th>\n",
       "      <td>female</td>\n",
       "      <td>group D</td>\n",
       "      <td>some college</td>\n",
       "      <td>standard</td>\n",
       "      <td>completed</td>\n",
       "      <td>79</td>\n",
       "      <td>84</td>\n",
       "      <td>91</td>\n",
       "      <td>84.666667</td>\n",
       "      <td>acceptable</td>\n",
       "    </tr>\n",
       "    <tr>\n",
       "      <th>391</th>\n",
       "      <td>female</td>\n",
       "      <td>group D</td>\n",
       "      <td>some college</td>\n",
       "      <td>standard</td>\n",
       "      <td>none</td>\n",
       "      <td>77</td>\n",
       "      <td>68</td>\n",
       "      <td>77</td>\n",
       "      <td>74.000000</td>\n",
       "      <td>acceptable</td>\n",
       "    </tr>\n",
       "    <tr>\n",
       "      <th>306</th>\n",
       "      <td>male</td>\n",
       "      <td>group E</td>\n",
       "      <td>some college</td>\n",
       "      <td>standard</td>\n",
       "      <td>completed</td>\n",
       "      <td>99</td>\n",
       "      <td>87</td>\n",
       "      <td>81</td>\n",
       "      <td>89.000000</td>\n",
       "      <td>acceptable</td>\n",
       "    </tr>\n",
       "    <tr>\n",
       "      <th>457</th>\n",
       "      <td>male</td>\n",
       "      <td>group D</td>\n",
       "      <td>associate's degree</td>\n",
       "      <td>free/reduced</td>\n",
       "      <td>none</td>\n",
       "      <td>53</td>\n",
       "      <td>54</td>\n",
       "      <td>48</td>\n",
       "      <td>51.666667</td>\n",
       "      <td>acceptable</td>\n",
       "    </tr>\n",
       "    <tr>\n",
       "      <th>265</th>\n",
       "      <td>male</td>\n",
       "      <td>group D</td>\n",
       "      <td>some high school</td>\n",
       "      <td>free/reduced</td>\n",
       "      <td>none</td>\n",
       "      <td>59</td>\n",
       "      <td>42</td>\n",
       "      <td>41</td>\n",
       "      <td>47.333333</td>\n",
       "      <td>non acceptable</td>\n",
       "    </tr>\n",
       "    <tr>\n",
       "      <th>285</th>\n",
       "      <td>male</td>\n",
       "      <td>group B</td>\n",
       "      <td>associate's degree</td>\n",
       "      <td>standard</td>\n",
       "      <td>completed</td>\n",
       "      <td>81</td>\n",
       "      <td>82</td>\n",
       "      <td>82</td>\n",
       "      <td>81.666667</td>\n",
       "      <td>acceptable</td>\n",
       "    </tr>\n",
       "    <tr>\n",
       "      <th>245</th>\n",
       "      <td>male</td>\n",
       "      <td>group C</td>\n",
       "      <td>associate's degree</td>\n",
       "      <td>standard</td>\n",
       "      <td>none</td>\n",
       "      <td>85</td>\n",
       "      <td>76</td>\n",
       "      <td>71</td>\n",
       "      <td>77.333333</td>\n",
       "      <td>acceptable</td>\n",
       "    </tr>\n",
       "    <tr>\n",
       "      <th>298</th>\n",
       "      <td>male</td>\n",
       "      <td>group C</td>\n",
       "      <td>high school</td>\n",
       "      <td>free/reduced</td>\n",
       "      <td>completed</td>\n",
       "      <td>40</td>\n",
       "      <td>46</td>\n",
       "      <td>50</td>\n",
       "      <td>45.333333</td>\n",
       "      <td>non acceptable</td>\n",
       "    </tr>\n",
       "    <tr>\n",
       "      <th>713</th>\n",
       "      <td>male</td>\n",
       "      <td>group D</td>\n",
       "      <td>master's degree</td>\n",
       "      <td>standard</td>\n",
       "      <td>none</td>\n",
       "      <td>81</td>\n",
       "      <td>81</td>\n",
       "      <td>84</td>\n",
       "      <td>82.000000</td>\n",
       "      <td>acceptable</td>\n",
       "    </tr>\n",
       "    <tr>\n",
       "      <th>329</th>\n",
       "      <td>female</td>\n",
       "      <td>group B</td>\n",
       "      <td>some high school</td>\n",
       "      <td>standard</td>\n",
       "      <td>none</td>\n",
       "      <td>41</td>\n",
       "      <td>55</td>\n",
       "      <td>51</td>\n",
       "      <td>49.000000</td>\n",
       "      <td>non acceptable</td>\n",
       "    </tr>\n",
       "    <tr>\n",
       "      <th>350</th>\n",
       "      <td>female</td>\n",
       "      <td>group B</td>\n",
       "      <td>bachelor's degree</td>\n",
       "      <td>standard</td>\n",
       "      <td>none</td>\n",
       "      <td>52</td>\n",
       "      <td>65</td>\n",
       "      <td>69</td>\n",
       "      <td>62.000000</td>\n",
       "      <td>acceptable</td>\n",
       "    </tr>\n",
       "    <tr>\n",
       "      <th>836</th>\n",
       "      <td>male</td>\n",
       "      <td>group E</td>\n",
       "      <td>high school</td>\n",
       "      <td>standard</td>\n",
       "      <td>none</td>\n",
       "      <td>73</td>\n",
       "      <td>64</td>\n",
       "      <td>57</td>\n",
       "      <td>64.666667</td>\n",
       "      <td>acceptable</td>\n",
       "    </tr>\n",
       "    <tr>\n",
       "      <th>478</th>\n",
       "      <td>female</td>\n",
       "      <td>group D</td>\n",
       "      <td>master's degree</td>\n",
       "      <td>standard</td>\n",
       "      <td>none</td>\n",
       "      <td>55</td>\n",
       "      <td>64</td>\n",
       "      <td>70</td>\n",
       "      <td>63.000000</td>\n",
       "      <td>acceptable</td>\n",
       "    </tr>\n",
       "  </tbody>\n",
       "</table>\n",
       "</div>"
      ],
      "text/plain": [
       "     gender race/ethnicity parental level of education         lunch  \\\n",
       "615  female        group C                 high school      standard   \n",
       "194  female        group C             master's degree      standard   \n",
       "681    male        group B                 high school      standard   \n",
       "326    male        group C                some college      standard   \n",
       "561  female        group C                some college      standard   \n",
       "686    male        group E                some college      standard   \n",
       "805    male        group A                some college  free/reduced   \n",
       "538    male        group E           bachelor's degree      standard   \n",
       "884  female        group E          associate's degree      standard   \n",
       "256  female        group C          associate's degree  free/reduced   \n",
       "164  female        group E             master's degree      standard   \n",
       "861  female        group E             master's degree  free/reduced   \n",
       "411    male        group E                some college      standard   \n",
       "19   female        group C          associate's degree  free/reduced   \n",
       "876    male        group D                some college      standard   \n",
       "477    male        group D          associate's degree      standard   \n",
       "470  female        group C          associate's degree      standard   \n",
       "166    male        group C                 high school  free/reduced   \n",
       "558  female        group B          associate's degree  free/reduced   \n",
       "796    male        group D                 high school      standard   \n",
       "24     male        group D           bachelor's degree  free/reduced   \n",
       "165  female        group C           bachelor's degree      standard   \n",
       "636  female        group B                 high school  free/reduced   \n",
       "517  female        group E                some college      standard   \n",
       "868    male        group E          associate's degree  free/reduced   \n",
       "409    male        group D          associate's degree      standard   \n",
       "153    male        group D           bachelor's degree      standard   \n",
       "148  female        group D           bachelor's degree      standard   \n",
       "652  female        group D                some college      standard   \n",
       "314  female        group C           bachelor's degree      standard   \n",
       "99   female        group D           bachelor's degree      standard   \n",
       "493  female        group C           bachelor's degree      standard   \n",
       "215    male        group B            some high school      standard   \n",
       "160    male        group B          associate's degree  free/reduced   \n",
       "606  female        group C          associate's degree      standard   \n",
       "790  female        group B                 high school      standard   \n",
       "490  female        group A          associate's degree  free/reduced   \n",
       "907  female        group D                some college      standard   \n",
       "391  female        group D                some college      standard   \n",
       "306    male        group E                some college      standard   \n",
       "457    male        group D          associate's degree  free/reduced   \n",
       "265    male        group D            some high school  free/reduced   \n",
       "285    male        group B          associate's degree      standard   \n",
       "245    male        group C          associate's degree      standard   \n",
       "298    male        group C                 high school  free/reduced   \n",
       "713    male        group D             master's degree      standard   \n",
       "329  female        group B            some high school      standard   \n",
       "350  female        group B           bachelor's degree      standard   \n",
       "836    male        group E                 high school      standard   \n",
       "478  female        group D             master's degree      standard   \n",
       "\n",
       "    test preparation course  math score  reading score  writing score  \\\n",
       "615                    none          60             68             72   \n",
       "194               completed          69             84             85   \n",
       "681                    none          60             68             60   \n",
       "326                    none          61             61             62   \n",
       "561                    none          63             74             74   \n",
       "686               completed          85             75             68   \n",
       "805                    none          75             81             74   \n",
       "538               completed          85             66             71   \n",
       "884                    none          51             51             54   \n",
       "256                    none          64             73             68   \n",
       "164                    none          81             92             91   \n",
       "861                    none          81             86             87   \n",
       "411               completed          84             83             78   \n",
       "19                     none          54             58             61   \n",
       "876                    none          81             82             84   \n",
       "477                    none          80             68             72   \n",
       "470               completed          83             85             90   \n",
       "166               completed          53             51             51   \n",
       "558                    none          53             70             70   \n",
       "796                    none          70             70             70   \n",
       "24                completed          74             71             80   \n",
       "165               completed          96            100            100   \n",
       "636               completed          67             80             81   \n",
       "517               completed          66             74             73   \n",
       "868               completed          78             74             72   \n",
       "409               completed          87             84             85   \n",
       "153                    none          54             49             47   \n",
       "148               completed          68             75             81   \n",
       "652               completed          85             86             98   \n",
       "314               completed          59             64             75   \n",
       "99                     none          65             67             62   \n",
       "493                    none          81             88             90   \n",
       "215               completed          84             83             75   \n",
       "160               completed          82             78             74   \n",
       "606                    none          85             84             82   \n",
       "790                    none          48             62             60   \n",
       "490                    none          65             85             76   \n",
       "907               completed          79             84             91   \n",
       "391                    none          77             68             77   \n",
       "306               completed          99             87             81   \n",
       "457                    none          53             54             48   \n",
       "265                    none          59             42             41   \n",
       "285               completed          81             82             82   \n",
       "245                    none          85             76             71   \n",
       "298               completed          40             46             50   \n",
       "713                    none          81             81             84   \n",
       "329                    none          41             55             51   \n",
       "350                    none          52             65             69   \n",
       "836                    none          73             64             57   \n",
       "478                    none          55             64             70   \n",
       "\n",
       "     avg of score     performance  \n",
       "615     66.666667      acceptable  \n",
       "194     79.333333      acceptable  \n",
       "681     62.666667      acceptable  \n",
       "326     61.333333      acceptable  \n",
       "561     70.333333      acceptable  \n",
       "686     76.000000      acceptable  \n",
       "805     76.666667      acceptable  \n",
       "538     74.000000      acceptable  \n",
       "884     52.000000      acceptable  \n",
       "256     68.333333      acceptable  \n",
       "164     88.000000      acceptable  \n",
       "861     84.666667      acceptable  \n",
       "411     81.666667      acceptable  \n",
       "19      57.666667      acceptable  \n",
       "876     82.333333      acceptable  \n",
       "477     73.333333      acceptable  \n",
       "470     86.000000      acceptable  \n",
       "166     51.666667      acceptable  \n",
       "558     64.333333      acceptable  \n",
       "796     70.000000      acceptable  \n",
       "24      75.000000      acceptable  \n",
       "165     98.666667      acceptable  \n",
       "636     76.000000      acceptable  \n",
       "517     71.000000      acceptable  \n",
       "868     74.666667      acceptable  \n",
       "409     85.333333      acceptable  \n",
       "153     50.000000      acceptable  \n",
       "148     74.666667      acceptable  \n",
       "652     89.666667      acceptable  \n",
       "314     66.000000      acceptable  \n",
       "99      64.666667      acceptable  \n",
       "493     86.333333      acceptable  \n",
       "215     80.666667      acceptable  \n",
       "160     78.000000      acceptable  \n",
       "606     83.666667      acceptable  \n",
       "790     56.666667      acceptable  \n",
       "490     75.333333      acceptable  \n",
       "907     84.666667      acceptable  \n",
       "391     74.000000      acceptable  \n",
       "306     89.000000      acceptable  \n",
       "457     51.666667      acceptable  \n",
       "265     47.333333  non acceptable  \n",
       "285     81.666667      acceptable  \n",
       "245     77.333333      acceptable  \n",
       "298     45.333333  non acceptable  \n",
       "713     82.000000      acceptable  \n",
       "329     49.000000  non acceptable  \n",
       "350     62.000000      acceptable  \n",
       "836     64.666667      acceptable  \n",
       "478     63.000000      acceptable  "
      ]
     },
     "execution_count": 46,
     "metadata": {},
     "output_type": "execute_result"
    }
   ],
   "source": [
    "s=data.sample(n=50)\n",
    "s"
   ]
  },
  {
   "cell_type": "markdown",
   "id": "689dddb8-d044-4901-9130-e7a076304e7b",
   "metadata": {},
   "source": [
    "# Chi-square Test"
   ]
  },
  {
   "cell_type": "markdown",
   "id": "a86925a2-3d80-4fd3-962f-a1825849e5df",
   "metadata": {},
   "source": [
    " The Chi-Square test is a statistical procedure for determining the difference between observed and expected data. This test can also be used to determine whether it correlates to the categorical variables in our data. It helps to find out whether a difference between two categorical variables is due to chance or a relationship between them."
   ]
  },
  {
   "cell_type": "markdown",
   "id": "6e01ef85-86b6-474a-ac0a-9701cf556cb2",
   "metadata": {},
   "source": [
    "##### Ho: There is a Perfomance independ on gender.\n",
    "##### Ha: There is a Performace depend on gender."
   ]
  },
  {
   "cell_type": "code",
   "execution_count": 47,
   "id": "fc069160-ca49-4f1b-9f69-62f89a422cc8",
   "metadata": {},
   "outputs": [
    {
     "data": {
      "text/html": [
       "<div>\n",
       "<style scoped>\n",
       "    .dataframe tbody tr th:only-of-type {\n",
       "        vertical-align: middle;\n",
       "    }\n",
       "\n",
       "    .dataframe tbody tr th {\n",
       "        vertical-align: top;\n",
       "    }\n",
       "\n",
       "    .dataframe thead th {\n",
       "        text-align: right;\n",
       "    }\n",
       "</style>\n",
       "<table border=\"1\" class=\"dataframe\">\n",
       "  <thead>\n",
       "    <tr style=\"text-align: right;\">\n",
       "      <th>performance</th>\n",
       "      <th>acceptable</th>\n",
       "      <th>non acceptable</th>\n",
       "      <th>All</th>\n",
       "    </tr>\n",
       "    <tr>\n",
       "      <th>gender</th>\n",
       "      <th></th>\n",
       "      <th></th>\n",
       "      <th></th>\n",
       "    </tr>\n",
       "  </thead>\n",
       "  <tbody>\n",
       "    <tr>\n",
       "      <th>female</th>\n",
       "      <td>25</td>\n",
       "      <td>1</td>\n",
       "      <td>26</td>\n",
       "    </tr>\n",
       "    <tr>\n",
       "      <th>male</th>\n",
       "      <td>22</td>\n",
       "      <td>2</td>\n",
       "      <td>24</td>\n",
       "    </tr>\n",
       "    <tr>\n",
       "      <th>All</th>\n",
       "      <td>47</td>\n",
       "      <td>3</td>\n",
       "      <td>50</td>\n",
       "    </tr>\n",
       "  </tbody>\n",
       "</table>\n",
       "</div>"
      ],
      "text/plain": [
       "performance  acceptable  non acceptable  All\n",
       "gender                                      \n",
       "female               25               1   26\n",
       "male                 22               2   24\n",
       "All                  47               3   50"
      ]
     },
     "execution_count": 47,
     "metadata": {},
     "output_type": "execute_result"
    }
   ],
   "source": [
    "contingency_table=pd.crosstab(s['gender'],s['performance'],margins=True)\n",
    "contingency_table"
   ]
  },
  {
   "cell_type": "code",
   "execution_count": 53,
   "id": "075177ab-378b-4510-8275-2a60a0a6df31",
   "metadata": {},
   "outputs": [
    {
     "name": "stdout",
     "output_type": "stream",
     "text": [
      "Chi-square statistic: 0.44553555191853056\n",
      "p-value: 0.9785818786374898\n",
      "Degrees of freedom: 4\n",
      "Expected frequencies table:\n",
      "[[24.44  1.56 26.  ]\n",
      " [22.56  1.44 24.  ]\n",
      " [47.    3.   50.  ]]\n",
      "Accept the null hypothesis. There is a Performace indepnd on gender\n"
     ]
    }
   ],
   "source": [
    "from scipy.stats import chi2\n",
    "chi2, p, dof, expected = stats.chi2_contingency(contingency_table)\n",
    "print(\"Chi-square statistic:\", chi2)\n",
    "print(\"p-value:\", p)\n",
    "print(\"Degrees of freedom:\", dof)\n",
    "print(\"Expected frequencies table:\")\n",
    "print(expected)\n",
    "alpha=0.05\n",
    "if p_value > alpha:\n",
    "    print('Accept the null hypothesis. There is a Performace indepnd on gender')\n",
    "else:\n",
    "    print('Reject the null hypothesis.There is a Performance depend on gender')"
   ]
  },
  {
   "cell_type": "markdown",
   "id": "e8bbd672-c23d-4ebd-9a7d-5a1347211110",
   "metadata": {},
   "source": [
    "# Conclusion"
   ]
  },
  {
   "cell_type": "markdown",
   "id": "fd7913d9-5029-4c1e-b652-7501bcb7642f",
   "metadata": {},
   "source": [
    "##### p-value is greater than alpha then null hypothesis is accepted"
   ]
  },
  {
   "cell_type": "markdown",
   "id": "0c903a36-67ca-48f6-97f5-2295244791a5",
   "metadata": {},
   "source": [
    "# Anova Test"
   ]
  },
  {
   "cell_type": "markdown",
   "id": "f5523947-5459-41fc-a763-3cf69dc4fd22",
   "metadata": {},
   "source": [
    "• ANOVA, which stands for Analysis of Variance, is a statistical test used to analyze the difference between the means of more than two groups.\n",
    "\n",
    "• A one-way ANOVA uses one independent variable, while a two-way ANOVA uses two independent variables."
   ]
  },
  {
   "cell_type": "markdown",
   "id": "9d2fe43e-1335-4fff-89b0-b6623fc705ed",
   "metadata": {},
   "source": [
    "##### Ho: There is a math score,reading score,writing score independ on gender.\n",
    "##### Ha: There is  math score,reading score,writing score depend on gender."
   ]
  },
  {
   "cell_type": "code",
   "execution_count": 50,
   "id": "c38e772f-70b8-43a5-837c-4ddc4cbe3681",
   "metadata": {},
   "outputs": [
    {
     "name": "stdout",
     "output_type": "stream",
     "text": [
      "\n",
      "ANOVA analysis for gender:\n",
      "math score: F-statistic = 2.654675479466898, p-value = 0.11444645534614976\n",
      "reading score: F-statistic = 0.13351379238143343, p-value = 0.7175621449695468\n",
      "writing score: F-statistic = 0.7912674931619025, p-value = 0.38129626166001174\n",
      "Accept null hypothesis. There is  math score,reading score,writing score independ on gender\n"
     ]
    }
   ],
   "source": [
    "from scipy.stats import f_oneway\n",
    "categorical_factors = ['gender']\n",
    "\n",
    "# Perform ANOVA for each categorical factor and each test score\n",
    "for factor in categorical_factors:\n",
    "    print(f\"\\nANOVA analysis for {factor}:\")\n",
    "    for score_type in ['math score', 'reading score', 'writing score']:\n",
    "        group_data = []\n",
    "        groups = df.groupby(factor)\n",
    "        for group_name, data in groups:\n",
    "            group_data.append(data[score_type])\n",
    "        f_statistic, p_value = f_oneway(*group_data)\n",
    "        print(f\"{score_type}: F-statistic = {f_statistic}, p-value = {p_value}\")\n",
    "alpha = 0.05\n",
    "if p_value > alpha:\n",
    "      print (\"Accept null hypothesis. There is  math score,reading score,writing score independ on gender\")\n",
    "else:\n",
    "      print(\"Reject the null hypothesis. There is a math score,reading score,writing score depend on gender\")"
   ]
  },
  {
   "cell_type": "markdown",
   "id": "24aa13f8-8700-4f03-a197-4390df4deb53",
   "metadata": {},
   "source": [
    "# Conclusion"
   ]
  },
  {
   "cell_type": "markdown",
   "id": "ca6c3dc6-f0bf-4f7f-817d-ddf047ecc391",
   "metadata": {},
   "source": [
    "##### p-values for all three scores (math, reading, and writing) are greater than the typical significance level of 0.05, we fail to reject the null\n",
    "\n",
    "##### hypothesis. This implies that there is no evidence to suggest that gender has a significant effect on math, reading, or writing scores.d"
   ]
  }
 ],
 "metadata": {
  "kernelspec": {
   "display_name": "Python 3 (ipykernel)",
   "language": "python",
   "name": "python3"
  },
  "language_info": {
   "codemirror_mode": {
    "name": "ipython",
    "version": 3
   },
   "file_extension": ".py",
   "mimetype": "text/x-python",
   "name": "python",
   "nbconvert_exporter": "python",
   "pygments_lexer": "ipython3",
   "version": "3.11.5"
  }
 },
 "nbformat": 4,
 "nbformat_minor": 5
}
